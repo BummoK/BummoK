{
  "cells": [
    {
      "cell_type": "markdown",
      "metadata": {
        "id": "view-in-github",
        "colab_type": "text"
      },
      "source": [
        "<a href=\"https://colab.research.google.com/github/BummoK/BummoK/blob/main/Autoencoder_%EB%B3%91%EB%AA%A8.ipynb\" target=\"_parent\"><img src=\"https://colab.research.google.com/assets/colab-badge.svg\" alt=\"Open In Colab\"/></a>"
      ]
    },
    {
      "cell_type": "markdown",
      "metadata": {
        "id": "2Aeh4W1Crglc"
      },
      "source": [
        "# 기존 데이터셋 + 차량 7글자"
      ]
    },
    {
      "cell_type": "code",
      "execution_count": null,
      "metadata": {
        "id": "SsCufcscrglj"
      },
      "outputs": [],
      "source": [
        "import pandas as pd\n",
        "import numpy as np"
      ]
    },
    {
      "cell_type": "code",
      "execution_count": null,
      "metadata": {
        "id": "3yYKGfQSrgll"
      },
      "outputs": [],
      "source": [
        "df = pd.read_csv('data_before.csv')"
      ]
    },
    {
      "cell_type": "code",
      "execution_count": null,
      "metadata": {
        "id": "dBQHp5kKrgll",
        "outputId": "40b9e47b-d4de-4661-b30a-8908fc4aedc0"
      },
      "outputs": [
        {
          "data": {
            "text/plain": [
              "X1        0\n",
              "X2        0\n",
              "X3        0\n",
              "X6        0\n",
              "X7        0\n",
              "X8        0\n",
              "X9        0\n",
              "X10       0\n",
              "X11       0\n",
              "X12       0\n",
              "X13       0\n",
              "X14       0\n",
              "X15       0\n",
              "X16       0\n",
              "X17       0\n",
              "target    0\n",
              "dtype: int64"
            ]
          },
          "execution_count": 3,
          "metadata": {},
          "output_type": "execute_result"
        }
      ],
      "source": [
        "# 결측값 확인\n",
        "df.isnull().sum() "
      ]
    },
    {
      "cell_type": "code",
      "execution_count": null,
      "metadata": {
        "id": "l5fdHD6zrglm"
      },
      "outputs": [],
      "source": [
        "df_second = df.copy()"
      ]
    },
    {
      "cell_type": "code",
      "execution_count": null,
      "metadata": {
        "id": "a7-wyUH9rgln"
      },
      "outputs": [],
      "source": [
        "new_X1 = []\n",
        "for i in range(len(df_second)):\n",
        "    new_X1.append(df_second['X1'][i][:7])\n",
        "\n",
        "df_second.insert(1, 'new_X1', new_X1)\n",
        "df_second = df_second.drop(['X1'], axis=1)"
      ]
    },
    {
      "cell_type": "code",
      "execution_count": null,
      "metadata": {
        "id": "ub-L-o9yrgln",
        "outputId": "ed835357-6d13-474f-f49e-669a0ef55d08"
      },
      "outputs": [
        {
          "data": {
            "text/plain": [
              "8816FLU    155757\n",
              "8816FKU    111763\n",
              "8816FMU    104682\n",
              "7816FKU      4935\n",
              "7816FLU      4336\n",
              "7816FMU      2304\n",
              "8816FJU      2298\n",
              "Name: new_X1, dtype: int64"
            ]
          },
          "execution_count": 6,
          "metadata": {},
          "output_type": "execute_result"
        }
      ],
      "source": [
        "df_second['new_X1'].value_counts()"
      ]
    },
    {
      "cell_type": "code",
      "execution_count": null,
      "metadata": {
        "id": "P4cYeT0Xrglo"
      },
      "outputs": [],
      "source": [
        "from sklearn.preprocessing import LabelEncoder"
      ]
    },
    {
      "cell_type": "code",
      "execution_count": null,
      "metadata": {
        "id": "HCg_ceWrrglo"
      },
      "outputs": [],
      "source": [
        "car_encoder = LabelEncoder()"
      ]
    },
    {
      "cell_type": "code",
      "execution_count": null,
      "metadata": {
        "id": "3Mooi6k6rglo"
      },
      "outputs": [],
      "source": [
        "df_second['new_X1'] = car_encoder.fit_transform(df_second['new_X1'])"
      ]
    },
    {
      "cell_type": "code",
      "execution_count": null,
      "metadata": {
        "id": "psT2x8bZrglo"
      },
      "outputs": [],
      "source": [
        "df_second = df_second.drop(['X2'], axis=1)"
      ]
    },
    {
      "cell_type": "code",
      "execution_count": null,
      "metadata": {
        "id": "6TJu8oV_rglp",
        "outputId": "a70c5f8b-388b-4d9a-a632-d9ae29868e48"
      },
      "outputs": [
        {
          "data": {
            "text/plain": [
              "5    155757\n",
              "4    111763\n",
              "6    104682\n",
              "0      4935\n",
              "1      4336\n",
              "2      2304\n",
              "3      2298\n",
              "Name: new_X1, dtype: int64"
            ]
          },
          "execution_count": 11,
          "metadata": {},
          "output_type": "execute_result"
        }
      ],
      "source": [
        "df_second['new_X1'].value_counts()"
      ]
    },
    {
      "cell_type": "markdown",
      "metadata": {
        "id": "hCVpFYo8rglp"
      },
      "source": [
        "## Autoencoder"
      ]
    },
    {
      "cell_type": "code",
      "execution_count": null,
      "metadata": {
        "id": "chwO7skarglp"
      },
      "outputs": [],
      "source": [
        "import tensorflow as tf"
      ]
    },
    {
      "cell_type": "code",
      "execution_count": null,
      "metadata": {
        "id": "g9nlIXRArglq"
      },
      "outputs": [],
      "source": [
        "from sklearn.preprocessing import RobustScaler"
      ]
    },
    {
      "cell_type": "code",
      "execution_count": null,
      "metadata": {
        "id": "PSfbik-srglq"
      },
      "outputs": [],
      "source": [
        "scaler = RobustScaler()"
      ]
    },
    {
      "cell_type": "code",
      "execution_count": null,
      "metadata": {
        "id": "eZ7068Otrglq"
      },
      "outputs": [],
      "source": [
        "second_ae = df_second.copy()\n",
        "second_ae.iloc[:,:-1] = scaler.fit_transform(second_ae.iloc[:,:-1])"
      ]
    },
    {
      "cell_type": "code",
      "execution_count": null,
      "metadata": {
        "id": "jvKRfJ23rglq",
        "outputId": "5a171e78-71b6-46fa-bdee-8256bce6e7dd"
      },
      "outputs": [
        {
          "data": {
            "text/html": [
              "<div>\n",
              "<style scoped>\n",
              "    .dataframe tbody tr th:only-of-type {\n",
              "        vertical-align: middle;\n",
              "    }\n",
              "\n",
              "    .dataframe tbody tr th {\n",
              "        vertical-align: top;\n",
              "    }\n",
              "\n",
              "    .dataframe thead th {\n",
              "        text-align: right;\n",
              "    }\n",
              "</style>\n",
              "<table border=\"1\" class=\"dataframe\">\n",
              "  <thead>\n",
              "    <tr style=\"text-align: right;\">\n",
              "      <th></th>\n",
              "      <th>new_X1</th>\n",
              "      <th>X3</th>\n",
              "      <th>X6</th>\n",
              "      <th>X7</th>\n",
              "      <th>X8</th>\n",
              "      <th>X9</th>\n",
              "      <th>X10</th>\n",
              "      <th>X11</th>\n",
              "      <th>X12</th>\n",
              "      <th>X13</th>\n",
              "      <th>X14</th>\n",
              "      <th>X15</th>\n",
              "      <th>X16</th>\n",
              "      <th>X17</th>\n",
              "      <th>target</th>\n",
              "    </tr>\n",
              "  </thead>\n",
              "  <tbody>\n",
              "    <tr>\n",
              "      <th>0</th>\n",
              "      <td>-2.5</td>\n",
              "      <td>-0.5</td>\n",
              "      <td>0.141207</td>\n",
              "      <td>-0.038095</td>\n",
              "      <td>0.794334</td>\n",
              "      <td>-0.031780</td>\n",
              "      <td>0.338237</td>\n",
              "      <td>0.665322</td>\n",
              "      <td>0.187080</td>\n",
              "      <td>-0.065966</td>\n",
              "      <td>-0.171270</td>\n",
              "      <td>1.104331</td>\n",
              "      <td>0.715948</td>\n",
              "      <td>-0.272466</td>\n",
              "      <td>0</td>\n",
              "    </tr>\n",
              "    <tr>\n",
              "      <th>1</th>\n",
              "      <td>-2.5</td>\n",
              "      <td>-0.5</td>\n",
              "      <td>0.071046</td>\n",
              "      <td>-0.019048</td>\n",
              "      <td>0.632549</td>\n",
              "      <td>0.567409</td>\n",
              "      <td>0.008911</td>\n",
              "      <td>1.095564</td>\n",
              "      <td>0.188204</td>\n",
              "      <td>0.598104</td>\n",
              "      <td>0.346213</td>\n",
              "      <td>1.929018</td>\n",
              "      <td>1.414098</td>\n",
              "      <td>-0.270995</td>\n",
              "      <td>0</td>\n",
              "    </tr>\n",
              "    <tr>\n",
              "      <th>2</th>\n",
              "      <td>-2.5</td>\n",
              "      <td>-0.5</td>\n",
              "      <td>0.080756</td>\n",
              "      <td>0.346032</td>\n",
              "      <td>0.284480</td>\n",
              "      <td>0.421981</td>\n",
              "      <td>0.005518</td>\n",
              "      <td>0.441728</td>\n",
              "      <td>0.189748</td>\n",
              "      <td>0.433572</td>\n",
              "      <td>0.206825</td>\n",
              "      <td>1.037080</td>\n",
              "      <td>0.882806</td>\n",
              "      <td>-0.269642</td>\n",
              "      <td>0</td>\n",
              "    </tr>\n",
              "    <tr>\n",
              "      <th>3</th>\n",
              "      <td>-2.5</td>\n",
              "      <td>-0.5</td>\n",
              "      <td>0.013502</td>\n",
              "      <td>-0.460317</td>\n",
              "      <td>0.762532</td>\n",
              "      <td>0.656858</td>\n",
              "      <td>0.008911</td>\n",
              "      <td>0.555442</td>\n",
              "      <td>0.190208</td>\n",
              "      <td>0.659959</td>\n",
              "      <td>0.068040</td>\n",
              "      <td>0.944658</td>\n",
              "      <td>0.820798</td>\n",
              "      <td>-0.268771</td>\n",
              "      <td>0</td>\n",
              "    </tr>\n",
              "    <tr>\n",
              "      <th>4</th>\n",
              "      <td>-2.5</td>\n",
              "      <td>-0.5</td>\n",
              "      <td>0.006431</td>\n",
              "      <td>2.298413</td>\n",
              "      <td>-1.055003</td>\n",
              "      <td>0.170763</td>\n",
              "      <td>0.005363</td>\n",
              "      <td>-0.712294</td>\n",
              "      <td>0.191859</td>\n",
              "      <td>0.155746</td>\n",
              "      <td>0.095054</td>\n",
              "      <td>0.087548</td>\n",
              "      <td>-0.451486</td>\n",
              "      <td>-0.268361</td>\n",
              "      <td>0</td>\n",
              "    </tr>\n",
              "    <tr>\n",
              "      <th>...</th>\n",
              "      <td>...</td>\n",
              "      <td>...</td>\n",
              "      <td>...</td>\n",
              "      <td>...</td>\n",
              "      <td>...</td>\n",
              "      <td>...</td>\n",
              "      <td>...</td>\n",
              "      <td>...</td>\n",
              "      <td>...</td>\n",
              "      <td>...</td>\n",
              "      <td>...</td>\n",
              "      <td>...</td>\n",
              "      <td>...</td>\n",
              "      <td>...</td>\n",
              "      <td>...</td>\n",
              "    </tr>\n",
              "    <tr>\n",
              "      <th>386070</th>\n",
              "      <td>0.5</td>\n",
              "      <td>0.5</td>\n",
              "      <td>0.085522</td>\n",
              "      <td>0.469841</td>\n",
              "      <td>-1.618404</td>\n",
              "      <td>-1.756426</td>\n",
              "      <td>-0.086899</td>\n",
              "      <td>-0.755514</td>\n",
              "      <td>-0.767408</td>\n",
              "      <td>-1.765025</td>\n",
              "      <td>1.037901</td>\n",
              "      <td>-0.079570</td>\n",
              "      <td>-1.022391</td>\n",
              "      <td>-0.725790</td>\n",
              "      <td>0</td>\n",
              "    </tr>\n",
              "    <tr>\n",
              "      <th>386071</th>\n",
              "      <td>0.5</td>\n",
              "      <td>0.5</td>\n",
              "      <td>0.042850</td>\n",
              "      <td>-0.393651</td>\n",
              "      <td>0.308709</td>\n",
              "      <td>-1.040594</td>\n",
              "      <td>0.308947</td>\n",
              "      <td>0.804596</td>\n",
              "      <td>-0.766487</td>\n",
              "      <td>-1.029819</td>\n",
              "      <td>0.473461</td>\n",
              "      <td>-0.081888</td>\n",
              "      <td>-0.418968</td>\n",
              "      <td>-0.725751</td>\n",
              "      <td>0</td>\n",
              "    </tr>\n",
              "    <tr>\n",
              "      <th>386072</th>\n",
              "      <td>0.5</td>\n",
              "      <td>0.5</td>\n",
              "      <td>0.068390</td>\n",
              "      <td>-0.457143</td>\n",
              "      <td>0.289582</td>\n",
              "      <td>-0.534631</td>\n",
              "      <td>0.381667</td>\n",
              "      <td>0.087350</td>\n",
              "      <td>-0.766487</td>\n",
              "      <td>-0.515058</td>\n",
              "      <td>0.433811</td>\n",
              "      <td>-0.080976</td>\n",
              "      <td>-0.282481</td>\n",
              "      <td>-0.725676</td>\n",
              "      <td>0</td>\n",
              "    </tr>\n",
              "    <tr>\n",
              "      <th>386073</th>\n",
              "      <td>0.5</td>\n",
              "      <td>0.5</td>\n",
              "      <td>0.058294</td>\n",
              "      <td>0.434921</td>\n",
              "      <td>0.090611</td>\n",
              "      <td>0.199426</td>\n",
              "      <td>-0.090794</td>\n",
              "      <td>0.153979</td>\n",
              "      <td>-0.766487</td>\n",
              "      <td>0.209138</td>\n",
              "      <td>0.189606</td>\n",
              "      <td>1.612558</td>\n",
              "      <td>0.247642</td>\n",
              "      <td>-0.725402</td>\n",
              "      <td>0</td>\n",
              "    </tr>\n",
              "    <tr>\n",
              "      <th>386074</th>\n",
              "      <td>0.5</td>\n",
              "      <td>0.5</td>\n",
              "      <td>0.138723</td>\n",
              "      <td>-0.495238</td>\n",
              "      <td>-2.998507</td>\n",
              "      <td>-0.018688</td>\n",
              "      <td>-0.821369</td>\n",
              "      <td>-1.313203</td>\n",
              "      <td>-0.766487</td>\n",
              "      <td>0.194840</td>\n",
              "      <td>0.198768</td>\n",
              "      <td>0.002912</td>\n",
              "      <td>-1.022391</td>\n",
              "      <td>-0.725089</td>\n",
              "      <td>0</td>\n",
              "    </tr>\n",
              "  </tbody>\n",
              "</table>\n",
              "<p>386075 rows × 15 columns</p>\n",
              "</div>"
            ],
            "text/plain": [
              "        new_X1   X3        X6        X7        X8        X9       X10  \\\n",
              "0         -2.5 -0.5  0.141207 -0.038095  0.794334 -0.031780  0.338237   \n",
              "1         -2.5 -0.5  0.071046 -0.019048  0.632549  0.567409  0.008911   \n",
              "2         -2.5 -0.5  0.080756  0.346032  0.284480  0.421981  0.005518   \n",
              "3         -2.5 -0.5  0.013502 -0.460317  0.762532  0.656858  0.008911   \n",
              "4         -2.5 -0.5  0.006431  2.298413 -1.055003  0.170763  0.005363   \n",
              "...        ...  ...       ...       ...       ...       ...       ...   \n",
              "386070     0.5  0.5  0.085522  0.469841 -1.618404 -1.756426 -0.086899   \n",
              "386071     0.5  0.5  0.042850 -0.393651  0.308709 -1.040594  0.308947   \n",
              "386072     0.5  0.5  0.068390 -0.457143  0.289582 -0.534631  0.381667   \n",
              "386073     0.5  0.5  0.058294  0.434921  0.090611  0.199426 -0.090794   \n",
              "386074     0.5  0.5  0.138723 -0.495238 -2.998507 -0.018688 -0.821369   \n",
              "\n",
              "             X11       X12       X13       X14       X15       X16       X17  \\\n",
              "0       0.665322  0.187080 -0.065966 -0.171270  1.104331  0.715948 -0.272466   \n",
              "1       1.095564  0.188204  0.598104  0.346213  1.929018  1.414098 -0.270995   \n",
              "2       0.441728  0.189748  0.433572  0.206825  1.037080  0.882806 -0.269642   \n",
              "3       0.555442  0.190208  0.659959  0.068040  0.944658  0.820798 -0.268771   \n",
              "4      -0.712294  0.191859  0.155746  0.095054  0.087548 -0.451486 -0.268361   \n",
              "...          ...       ...       ...       ...       ...       ...       ...   \n",
              "386070 -0.755514 -0.767408 -1.765025  1.037901 -0.079570 -1.022391 -0.725790   \n",
              "386071  0.804596 -0.766487 -1.029819  0.473461 -0.081888 -0.418968 -0.725751   \n",
              "386072  0.087350 -0.766487 -0.515058  0.433811 -0.080976 -0.282481 -0.725676   \n",
              "386073  0.153979 -0.766487  0.209138  0.189606  1.612558  0.247642 -0.725402   \n",
              "386074 -1.313203 -0.766487  0.194840  0.198768  0.002912 -1.022391 -0.725089   \n",
              "\n",
              "        target  \n",
              "0            0  \n",
              "1            0  \n",
              "2            0  \n",
              "3            0  \n",
              "4            0  \n",
              "...        ...  \n",
              "386070       0  \n",
              "386071       0  \n",
              "386072       0  \n",
              "386073       0  \n",
              "386074       0  \n",
              "\n",
              "[386075 rows x 15 columns]"
            ]
          },
          "execution_count": 16,
          "metadata": {},
          "output_type": "execute_result"
        }
      ],
      "source": [
        "second_ae"
      ]
    },
    {
      "cell_type": "code",
      "execution_count": null,
      "metadata": {
        "id": "fUv6mE59rglr"
      },
      "outputs": [],
      "source": [
        "TRAINING_SAMPLE = 473\n",
        "VALIDATE_SIZE = 0.2\n",
        "RANDOM_SEED = 1\n",
        "abnormal = second_ae[second_ae.target == 1]\n",
        "normal = second_ae[second_ae.target == 0]"
      ]
    },
    {
      "cell_type": "code",
      "execution_count": null,
      "metadata": {
        "id": "1T8c3CNerglr"
      },
      "outputs": [],
      "source": [
        "# shuffle our training set\n",
        "normal = normal.sample(frac=1, random_state=RANDOM_SEED).reset_index(drop=True)\n",
        "\n",
        "# training set: exlusively non-fraud transactions\n",
        "X_train = normal.iloc[TRAINING_SAMPLE:].drop('target', axis=1)\n",
        "\n",
        "# testing  set: the remaining non-fraud + all the fraud \n",
        "X_test = normal.iloc[:TRAINING_SAMPLE].append(abnormal)"
      ]
    },
    {
      "cell_type": "code",
      "execution_count": null,
      "metadata": {
        "id": "IDk3PgaWrglr"
      },
      "outputs": [],
      "source": [
        "from sklearn.model_selection import train_test_split\n",
        "\n",
        "# train // validate - no labels since they're all clean anyway\n",
        "X_train, X_validate = train_test_split(X_train, \n",
        "                                       test_size=VALIDATE_SIZE, \n",
        "                                       random_state=RANDOM_SEED)\n",
        "\n",
        "# manually splitting the labels from the test df\n",
        "X_test, y_test = X_test.drop('target', axis=1).values, X_test.target.values"
      ]
    },
    {
      "cell_type": "code",
      "execution_count": null,
      "metadata": {
        "id": "CeoMAKO4rgls"
      },
      "outputs": [],
      "source": [
        "import random as rn"
      ]
    },
    {
      "cell_type": "code",
      "execution_count": null,
      "metadata": {
        "id": "V1Am-laPrgls"
      },
      "outputs": [],
      "source": [
        "# setting random seeds for libraries to ensure reproducibility\n",
        "np.random.seed(RANDOM_SEED)\n",
        "rn.seed(RANDOM_SEED)"
      ]
    },
    {
      "cell_type": "code",
      "execution_count": null,
      "metadata": {
        "id": "4QUEBCyargls",
        "outputId": "5da30c2e-681e-479e-b51e-c5fb133b683d"
      },
      "outputs": [
        {
          "name": "stdout",
          "output_type": "stream",
          "text": [
            "Model: \"sequential\"\n",
            "_________________________________________________________________\n",
            " Layer (type)                Output Shape              Param #   \n",
            "=================================================================\n",
            " dense (Dense)               (None, 14)                210       \n",
            "                                                                 \n",
            " dense_1 (Dense)             (None, 8)                 120       \n",
            "                                                                 \n",
            " batch_normalization (BatchN  (None, 8)                32        \n",
            " ormalization)                                                   \n",
            "                                                                 \n",
            " dense_2 (Dense)             (None, 4)                 36        \n",
            "                                                                 \n",
            " batch_normalization_1 (Batc  (None, 4)                16        \n",
            " hNormalization)                                                 \n",
            "                                                                 \n",
            " dense_3 (Dense)             (None, 8)                 40        \n",
            "                                                                 \n",
            " dense_4 (Dense)             (None, 14)                126       \n",
            "                                                                 \n",
            "=================================================================\n",
            "Total params: 580\n",
            "Trainable params: 556\n",
            "Non-trainable params: 24\n",
            "_________________________________________________________________\n"
          ]
        }
      ],
      "source": [
        "input_dim = X_train.shape[1]\n",
        "BATCH_SIZE = 512\n",
        "EPOCHS = 500\n",
        "\n",
        "# https://keras.io/layers/core/\n",
        "autoencoder = tf.keras.models.Sequential([\n",
        "    \n",
        "    # deconstruct / encode\n",
        "    tf.keras.layers.Dense(input_dim, activation='relu', input_shape=(input_dim, )), \n",
        "    tf.keras.layers.Dense(8, activation='relu'),\n",
        "    tf.keras.layers.BatchNormalization(),\n",
        "    tf.keras.layers.Dense(4, activation='relu'),\n",
        "    \n",
        "    # reconstruction / decode\n",
        "    tf.keras.layers.BatchNormalization(),\n",
        "    tf.keras.layers.Dense(8, activation='relu'),\n",
        "    tf.keras.layers.Dense(input_dim, activation='relu')\n",
        "    \n",
        "])\n",
        "\n",
        "# https://keras.io/api/models/model_training_apis/\n",
        "autoencoder.compile(optimizer=\"adam\", \n",
        "                    loss=\"mse\",\n",
        "                    metrics=[\"acc\"])\n",
        "\n",
        "# print an overview of our model\n",
        "autoencoder.summary();"
      ]
    },
    {
      "cell_type": "code",
      "execution_count": null,
      "metadata": {
        "id": "7FW1zpRwrglt"
      },
      "outputs": [],
      "source": [
        "from datetime import datetime\n",
        "\n",
        "# current date and time\n",
        "yyyymmddHHMM = datetime.now().strftime('%Y%m%d%H%M')\n",
        "\n",
        "# new folder for a new run\n",
        "log_subdir = f'{yyyymmddHHMM}_batch{BATCH_SIZE}_layers{len(autoencoder.layers)}'\n",
        "\n",
        "# define our early stopping\n",
        "early_stop = tf.keras.callbacks.EarlyStopping(\n",
        "    monitor='val_loss',\n",
        "    min_delta=0.0001,\n",
        "    patience=50,\n",
        "    verbose=1, \n",
        "    mode='min',\n",
        "    restore_best_weights=True\n",
        ")\n",
        "\n",
        "save_model = tf.keras.callbacks.ModelCheckpoint(\n",
        "    filepath='autoencoder_best_weights.hdf5',\n",
        "    save_best_only=True,\n",
        "    monitor='val_loss',\n",
        "    verbose=0,\n",
        "    mode='min'\n",
        ")\n",
        "\n",
        "# callbacks argument only takes a list\n",
        "cb = [early_stop, save_model]"
      ]
    },
    {
      "cell_type": "code",
      "execution_count": null,
      "metadata": {
        "id": "lZvnVC38rglw",
        "outputId": "4e1cd3bf-583e-4d7e-c147-820c16973519"
      },
      "outputs": [
        {
          "name": "stdout",
          "output_type": "stream",
          "text": [
            "Epoch 1/500\n",
            "602/602 [==============================] - 2s 2ms/step - loss: 0.6211 - acc: 0.3772 - val_loss: 0.5092 - val_acc: 0.4550\n",
            "Epoch 2/500\n",
            "602/602 [==============================] - 1s 2ms/step - loss: 0.4759 - acc: 0.5060 - val_loss: 0.4566 - val_acc: 0.6393\n",
            "Epoch 3/500\n",
            "602/602 [==============================] - 1s 2ms/step - loss: 0.4455 - acc: 0.6508 - val_loss: 0.4389 - val_acc: 0.6659\n",
            "Epoch 4/500\n",
            "602/602 [==============================] - 1s 2ms/step - loss: 0.4368 - acc: 0.6671 - val_loss: 0.4335 - val_acc: 0.6829\n",
            "Epoch 5/500\n",
            "602/602 [==============================] - 1s 2ms/step - loss: 0.4320 - acc: 0.6865 - val_loss: 0.4287 - val_acc: 0.6969\n",
            "Epoch 6/500\n",
            "602/602 [==============================] - 1s 2ms/step - loss: 0.4282 - acc: 0.6915 - val_loss: 0.4263 - val_acc: 0.7019\n",
            "Epoch 7/500\n",
            "602/602 [==============================] - 1s 2ms/step - loss: 0.4263 - acc: 0.6989 - val_loss: 0.4254 - val_acc: 0.7131\n",
            "Epoch 8/500\n",
            "602/602 [==============================] - 1s 2ms/step - loss: 0.4253 - acc: 0.7065 - val_loss: 0.4239 - val_acc: 0.7144\n",
            "Epoch 9/500\n",
            "602/602 [==============================] - 1s 2ms/step - loss: 0.4244 - acc: 0.7132 - val_loss: 0.4247 - val_acc: 0.7090\n",
            "Epoch 10/500\n",
            "602/602 [==============================] - 1s 2ms/step - loss: 0.4234 - acc: 0.7192 - val_loss: 0.4226 - val_acc: 0.7266\n",
            "Epoch 11/500\n",
            "602/602 [==============================] - 1s 2ms/step - loss: 0.4229 - acc: 0.7247 - val_loss: 0.4221 - val_acc: 0.7332\n",
            "Epoch 12/500\n",
            "602/602 [==============================] - 1s 2ms/step - loss: 0.4224 - acc: 0.7267 - val_loss: 0.4219 - val_acc: 0.7346\n",
            "Epoch 13/500\n",
            "602/602 [==============================] - 1s 2ms/step - loss: 0.4221 - acc: 0.7300 - val_loss: 0.4216 - val_acc: 0.7353\n",
            "Epoch 14/500\n",
            "602/602 [==============================] - 1s 2ms/step - loss: 0.4219 - acc: 0.7327 - val_loss: 0.4219 - val_acc: 0.7363\n",
            "Epoch 15/500\n",
            "602/602 [==============================] - 1s 2ms/step - loss: 0.4214 - acc: 0.7368 - val_loss: 0.4209 - val_acc: 0.7426\n",
            "Epoch 16/500\n",
            "602/602 [==============================] - 1s 2ms/step - loss: 0.4212 - acc: 0.7404 - val_loss: 0.4207 - val_acc: 0.7463\n",
            "Epoch 17/500\n",
            "602/602 [==============================] - 1s 2ms/step - loss: 0.4209 - acc: 0.7465 - val_loss: 0.4213 - val_acc: 0.7480\n",
            "Epoch 18/500\n",
            "602/602 [==============================] - 1s 2ms/step - loss: 0.4206 - acc: 0.7569 - val_loss: 0.4203 - val_acc: 0.7734\n",
            "Epoch 19/500\n",
            "602/602 [==============================] - 1s 2ms/step - loss: 0.4206 - acc: 0.7657 - val_loss: 0.4253 - val_acc: 0.7543\n",
            "Epoch 20/500\n",
            "602/602 [==============================] - 1s 2ms/step - loss: 0.4204 - acc: 0.7709 - val_loss: 0.4201 - val_acc: 0.7632\n",
            "Epoch 21/500\n",
            "602/602 [==============================] - 1s 2ms/step - loss: 0.4202 - acc: 0.7742 - val_loss: 0.4197 - val_acc: 0.7822\n",
            "Epoch 22/500\n",
            "602/602 [==============================] - 1s 2ms/step - loss: 0.4202 - acc: 0.7767 - val_loss: 0.4197 - val_acc: 0.7892\n",
            "Epoch 23/500\n",
            "602/602 [==============================] - 1s 2ms/step - loss: 0.4200 - acc: 0.7768 - val_loss: 0.4194 - val_acc: 0.7905\n",
            "Epoch 24/500\n",
            "602/602 [==============================] - 1s 2ms/step - loss: 0.4200 - acc: 0.7776 - val_loss: 0.4195 - val_acc: 0.7904\n",
            "Epoch 25/500\n",
            "602/602 [==============================] - 1s 2ms/step - loss: 0.4198 - acc: 0.7781 - val_loss: 0.4215 - val_acc: 0.7745\n",
            "Epoch 26/500\n",
            "602/602 [==============================] - 1s 2ms/step - loss: 0.4198 - acc: 0.7804 - val_loss: 0.4194 - val_acc: 0.7928\n",
            "Epoch 27/500\n",
            "602/602 [==============================] - 1s 2ms/step - loss: 0.4198 - acc: 0.7807 - val_loss: 0.4196 - val_acc: 0.7632\n",
            "Epoch 28/500\n",
            "602/602 [==============================] - 1s 2ms/step - loss: 0.4197 - acc: 0.7812 - val_loss: 0.4197 - val_acc: 0.7892\n",
            "Epoch 29/500\n",
            "602/602 [==============================] - 1s 2ms/step - loss: 0.4196 - acc: 0.7829 - val_loss: 0.4236 - val_acc: 0.7529\n",
            "Epoch 30/500\n",
            "602/602 [==============================] - 1s 2ms/step - loss: 0.4196 - acc: 0.7815 - val_loss: 0.4213 - val_acc: 0.7766\n",
            "Epoch 31/500\n",
            "602/602 [==============================] - 1s 2ms/step - loss: 0.4194 - acc: 0.7803 - val_loss: 0.4191 - val_acc: 0.7931\n",
            "Epoch 32/500\n",
            "602/602 [==============================] - 1s 2ms/step - loss: 0.4195 - acc: 0.7817 - val_loss: 0.4190 - val_acc: 0.7890\n",
            "Epoch 33/500\n",
            "602/602 [==============================] - 1s 2ms/step - loss: 0.4196 - acc: 0.7807 - val_loss: 0.4193 - val_acc: 0.7933\n",
            "Epoch 34/500\n",
            "602/602 [==============================] - 1s 2ms/step - loss: 0.4192 - acc: 0.7819 - val_loss: 0.4199 - val_acc: 0.7772\n",
            "Epoch 35/500\n",
            "602/602 [==============================] - 1s 2ms/step - loss: 0.4193 - acc: 0.7807 - val_loss: 0.4228 - val_acc: 0.7520\n",
            "Epoch 36/500\n",
            "602/602 [==============================] - 1s 2ms/step - loss: 0.4192 - acc: 0.7795 - val_loss: 0.4191 - val_acc: 0.7493\n",
            "Epoch 37/500\n",
            "602/602 [==============================] - 1s 2ms/step - loss: 0.4189 - acc: 0.7834 - val_loss: 0.4189 - val_acc: 0.7965\n",
            "Epoch 38/500\n",
            "602/602 [==============================] - 1s 2ms/step - loss: 0.4189 - acc: 0.7808 - val_loss: 0.4184 - val_acc: 0.7601\n",
            "Epoch 39/500\n",
            "602/602 [==============================] - 1s 2ms/step - loss: 0.4189 - acc: 0.7823 - val_loss: 0.4186 - val_acc: 0.7786\n",
            "Epoch 40/500\n",
            "602/602 [==============================] - 1s 2ms/step - loss: 0.4189 - acc: 0.7797 - val_loss: 0.4188 - val_acc: 0.7887\n",
            "Epoch 41/500\n",
            "602/602 [==============================] - 1s 2ms/step - loss: 0.4189 - acc: 0.7805 - val_loss: 0.4183 - val_acc: 0.7572\n",
            "Epoch 42/500\n",
            "602/602 [==============================] - 1s 2ms/step - loss: 0.4187 - acc: 0.7813 - val_loss: 0.4182 - val_acc: 0.8047\n",
            "Epoch 43/500\n",
            "602/602 [==============================] - 1s 2ms/step - loss: 0.4186 - acc: 0.7831 - val_loss: 0.4188 - val_acc: 0.8028\n",
            "Epoch 44/500\n",
            "602/602 [==============================] - 1s 2ms/step - loss: 0.4185 - acc: 0.7803 - val_loss: 0.4182 - val_acc: 0.7783\n",
            "Epoch 45/500\n",
            "602/602 [==============================] - 1s 2ms/step - loss: 0.4185 - acc: 0.7778 - val_loss: 0.4182 - val_acc: 0.8063\n",
            "Epoch 46/500\n",
            "602/602 [==============================] - 1s 2ms/step - loss: 0.4184 - acc: 0.7791 - val_loss: 0.4180 - val_acc: 0.7844\n",
            "Epoch 47/500\n",
            "602/602 [==============================] - 1s 2ms/step - loss: 0.4185 - acc: 0.7769 - val_loss: 0.4181 - val_acc: 0.7583\n",
            "Epoch 48/500\n",
            "602/602 [==============================] - 1s 2ms/step - loss: 0.4184 - acc: 0.7785 - val_loss: 0.4180 - val_acc: 0.7967\n",
            "Epoch 49/500\n",
            "602/602 [==============================] - 1s 2ms/step - loss: 0.4182 - acc: 0.7797 - val_loss: 0.4179 - val_acc: 0.8070\n",
            "Epoch 50/500\n",
            "602/602 [==============================] - 1s 2ms/step - loss: 0.4183 - acc: 0.7828 - val_loss: 0.4182 - val_acc: 0.8086\n",
            "Epoch 51/500\n",
            "602/602 [==============================] - 1s 2ms/step - loss: 0.4184 - acc: 0.7793 - val_loss: 0.4179 - val_acc: 0.7576\n",
            "Epoch 52/500\n",
            "602/602 [==============================] - 1s 2ms/step - loss: 0.4182 - acc: 0.7812 - val_loss: 0.4177 - val_acc: 0.8066\n",
            "Epoch 53/500\n",
            "602/602 [==============================] - 1s 2ms/step - loss: 0.4181 - acc: 0.7843 - val_loss: 0.4177 - val_acc: 0.8142\n",
            "Epoch 54/500\n",
            "602/602 [==============================] - 1s 2ms/step - loss: 0.4181 - acc: 0.7801 - val_loss: 0.4182 - val_acc: 0.8102\n",
            "Epoch 55/500\n",
            "602/602 [==============================] - 1s 2ms/step - loss: 0.4181 - acc: 0.7773 - val_loss: 0.4179 - val_acc: 0.7560\n",
            "Epoch 56/500\n",
            "602/602 [==============================] - 1s 2ms/step - loss: 0.4181 - acc: 0.7811 - val_loss: 0.4177 - val_acc: 0.7635\n",
            "Epoch 57/500\n",
            "602/602 [==============================] - 1s 2ms/step - loss: 0.4180 - acc: 0.7791 - val_loss: 0.4176 - val_acc: 0.7770\n",
            "Epoch 58/500\n",
            "602/602 [==============================] - 1s 2ms/step - loss: 0.4181 - acc: 0.7795 - val_loss: 0.4175 - val_acc: 0.7811\n",
            "Epoch 59/500\n",
            "602/602 [==============================] - 1s 2ms/step - loss: 0.4180 - acc: 0.7843 - val_loss: 0.4178 - val_acc: 0.7607\n",
            "Epoch 60/500\n",
            "602/602 [==============================] - 1s 2ms/step - loss: 0.4178 - acc: 0.7828 - val_loss: 0.4179 - val_acc: 0.7619\n",
            "Epoch 61/500\n",
            "602/602 [==============================] - 1s 2ms/step - loss: 0.4178 - acc: 0.7837 - val_loss: 0.4174 - val_acc: 0.7676\n",
            "Epoch 62/500\n",
            "602/602 [==============================] - 1s 2ms/step - loss: 0.4178 - acc: 0.7859 - val_loss: 0.4176 - val_acc: 0.7886\n",
            "Epoch 63/500\n",
            "602/602 [==============================] - 1s 2ms/step - loss: 0.4178 - acc: 0.7870 - val_loss: 0.4180 - val_acc: 0.8044\n",
            "Epoch 64/500\n",
            "602/602 [==============================] - 1s 2ms/step - loss: 0.4176 - acc: 0.7901 - val_loss: 0.4174 - val_acc: 0.8153\n",
            "Epoch 65/500\n",
            "602/602 [==============================] - 1s 2ms/step - loss: 0.4178 - acc: 0.7864 - val_loss: 0.4173 - val_acc: 0.7760\n",
            "Epoch 66/500\n",
            "602/602 [==============================] - 1s 2ms/step - loss: 0.4178 - acc: 0.7897 - val_loss: 0.4173 - val_acc: 0.8090\n",
            "Epoch 67/500\n",
            "602/602 [==============================] - 1s 2ms/step - loss: 0.4177 - acc: 0.7902 - val_loss: 0.4185 - val_acc: 0.7743\n",
            "Epoch 68/500\n",
            "602/602 [==============================] - 1s 2ms/step - loss: 0.4178 - acc: 0.7908 - val_loss: 0.4174 - val_acc: 0.8181\n",
            "Epoch 69/500\n",
            "602/602 [==============================] - 1s 2ms/step - loss: 0.4176 - acc: 0.7923 - val_loss: 0.4177 - val_acc: 0.8057\n",
            "Epoch 70/500\n",
            "602/602 [==============================] - 1s 2ms/step - loss: 0.4176 - acc: 0.7939 - val_loss: 0.4174 - val_acc: 0.7985\n",
            "Epoch 71/500\n",
            "602/602 [==============================] - 1s 2ms/step - loss: 0.4176 - acc: 0.7930 - val_loss: 0.4176 - val_acc: 0.7987\n",
            "Epoch 72/500\n",
            "602/602 [==============================] - 1s 2ms/step - loss: 0.4176 - acc: 0.7944 - val_loss: 0.4173 - val_acc: 0.8120\n",
            "Epoch 73/500\n",
            "602/602 [==============================] - 1s 2ms/step - loss: 0.4176 - acc: 0.7953 - val_loss: 0.4170 - val_acc: 0.8164\n",
            "Epoch 74/500\n",
            "602/602 [==============================] - 1s 2ms/step - loss: 0.4175 - acc: 0.7959 - val_loss: 0.4175 - val_acc: 0.8123\n",
            "Epoch 75/500\n",
            "602/602 [==============================] - 1s 2ms/step - loss: 0.4176 - acc: 0.7970 - val_loss: 0.4173 - val_acc: 0.8127\n",
            "Epoch 76/500\n",
            "602/602 [==============================] - 1s 2ms/step - loss: 0.4175 - acc: 0.7969 - val_loss: 0.4176 - val_acc: 0.8108\n",
            "Epoch 77/500\n",
            "602/602 [==============================] - 1s 2ms/step - loss: 0.4175 - acc: 0.7916 - val_loss: 0.4170 - val_acc: 0.8132\n",
            "Epoch 78/500\n",
            "602/602 [==============================] - 1s 2ms/step - loss: 0.4175 - acc: 0.7883 - val_loss: 0.4170 - val_acc: 0.7829\n",
            "Epoch 79/500\n",
            "602/602 [==============================] - 1s 2ms/step - loss: 0.4175 - acc: 0.7890 - val_loss: 0.4170 - val_acc: 0.8068\n",
            "Epoch 80/500\n",
            "602/602 [==============================] - 1s 2ms/step - loss: 0.4174 - acc: 0.7887 - val_loss: 0.4173 - val_acc: 0.8100\n",
            "Epoch 81/500\n",
            "602/602 [==============================] - 1s 2ms/step - loss: 0.4175 - acc: 0.7884 - val_loss: 0.4170 - val_acc: 0.8137\n",
            "Epoch 82/500\n",
            "602/602 [==============================] - 1s 2ms/step - loss: 0.4174 - acc: 0.7862 - val_loss: 0.4170 - val_acc: 0.8104\n",
            "Epoch 83/500\n",
            "602/602 [==============================] - 1s 2ms/step - loss: 0.4175 - acc: 0.7871 - val_loss: 0.4172 - val_acc: 0.8042\n",
            "Epoch 84/500\n",
            "602/602 [==============================] - 1s 2ms/step - loss: 0.4173 - acc: 0.7867 - val_loss: 0.4169 - val_acc: 0.7991\n",
            "Epoch 85/500\n",
            "602/602 [==============================] - 1s 2ms/step - loss: 0.4172 - acc: 0.7862 - val_loss: 0.4168 - val_acc: 0.8039\n",
            "Epoch 86/500\n",
            "602/602 [==============================] - 1s 2ms/step - loss: 0.4172 - acc: 0.7874 - val_loss: 0.4176 - val_acc: 0.8073\n",
            "Epoch 87/500\n",
            "602/602 [==============================] - 1s 2ms/step - loss: 0.4173 - acc: 0.7893 - val_loss: 0.4170 - val_acc: 0.8083\n",
            "Epoch 88/500\n",
            "602/602 [==============================] - 1s 2ms/step - loss: 0.4172 - acc: 0.7883 - val_loss: 0.4176 - val_acc: 0.7952\n",
            "Epoch 89/500\n",
            "602/602 [==============================] - 1s 2ms/step - loss: 0.4173 - acc: 0.7892 - val_loss: 0.4167 - val_acc: 0.8138\n",
            "Epoch 90/500\n",
            "602/602 [==============================] - 1s 2ms/step - loss: 0.4172 - acc: 0.7893 - val_loss: 0.4172 - val_acc: 0.7914\n",
            "Epoch 91/500\n",
            "602/602 [==============================] - 1s 2ms/step - loss: 0.4173 - acc: 0.7859 - val_loss: 0.4173 - val_acc: 0.7889\n",
            "Epoch 92/500\n",
            "602/602 [==============================] - 1s 2ms/step - loss: 0.4171 - acc: 0.7872 - val_loss: 0.4171 - val_acc: 0.7985\n",
            "Epoch 93/500\n",
            "602/602 [==============================] - 1s 2ms/step - loss: 0.4172 - acc: 0.7877 - val_loss: 0.4171 - val_acc: 0.7840\n",
            "Epoch 94/500\n",
            "602/602 [==============================] - 1s 2ms/step - loss: 0.4171 - acc: 0.7891 - val_loss: 0.4168 - val_acc: 0.8038\n",
            "Epoch 95/500\n",
            "602/602 [==============================] - 1s 2ms/step - loss: 0.4172 - acc: 0.7884 - val_loss: 0.4185 - val_acc: 0.7872\n",
            "Epoch 96/500\n",
            "602/602 [==============================] - 1s 2ms/step - loss: 0.4172 - acc: 0.7879 - val_loss: 0.4169 - val_acc: 0.7825\n",
            "Epoch 97/500\n",
            "602/602 [==============================] - 1s 2ms/step - loss: 0.4170 - acc: 0.7883 - val_loss: 0.4172 - val_acc: 0.8031\n",
            "Epoch 98/500\n",
            "602/602 [==============================] - 1s 2ms/step - loss: 0.4171 - acc: 0.7884 - val_loss: 0.4203 - val_acc: 0.7742\n",
            "Epoch 99/500\n",
            "602/602 [==============================] - 1s 2ms/step - loss: 0.4172 - acc: 0.7883 - val_loss: 0.4169 - val_acc: 0.8048\n",
            "Epoch 100/500\n",
            "602/602 [==============================] - 1s 2ms/step - loss: 0.4171 - acc: 0.7888 - val_loss: 0.4167 - val_acc: 0.7989\n",
            "Epoch 101/500\n",
            "602/602 [==============================] - 1s 2ms/step - loss: 0.4171 - acc: 0.7883 - val_loss: 0.4182 - val_acc: 0.7842\n",
            "Epoch 102/500\n",
            "602/602 [==============================] - 1s 2ms/step - loss: 0.4170 - acc: 0.7888 - val_loss: 0.4171 - val_acc: 0.7805\n",
            "Epoch 103/500\n",
            "602/602 [==============================] - 1s 2ms/step - loss: 0.4170 - acc: 0.7889 - val_loss: 0.4167 - val_acc: 0.8125\n",
            "Epoch 104/500\n",
            "602/602 [==============================] - 1s 2ms/step - loss: 0.4170 - acc: 0.7893 - val_loss: 0.4168 - val_acc: 0.7938\n",
            "Epoch 105/500\n",
            "602/602 [==============================] - 1s 2ms/step - loss: 0.4171 - acc: 0.7884 - val_loss: 0.4169 - val_acc: 0.7889\n",
            "Epoch 106/500\n",
            "602/602 [==============================] - 1s 2ms/step - loss: 0.4171 - acc: 0.7864 - val_loss: 0.4173 - val_acc: 0.7890\n",
            "Epoch 107/500\n",
            "602/602 [==============================] - 1s 2ms/step - loss: 0.4171 - acc: 0.7878 - val_loss: 0.4175 - val_acc: 0.7968\n",
            "Epoch 108/500\n",
            "602/602 [==============================] - 1s 2ms/step - loss: 0.4171 - acc: 0.7904 - val_loss: 0.4169 - val_acc: 0.7924\n",
            "Epoch 109/500\n",
            "602/602 [==============================] - 1s 2ms/step - loss: 0.4170 - acc: 0.7882 - val_loss: 0.4173 - val_acc: 0.7866\n",
            "Epoch 110/500\n",
            "602/602 [==============================] - 1s 2ms/step - loss: 0.4170 - acc: 0.7878 - val_loss: 0.4169 - val_acc: 0.8011\n",
            "Epoch 111/500\n",
            "602/602 [==============================] - 1s 2ms/step - loss: 0.4170 - acc: 0.7900 - val_loss: 0.4167 - val_acc: 0.8025\n",
            "Epoch 112/500\n",
            "602/602 [==============================] - 1s 2ms/step - loss: 0.4170 - acc: 0.7889 - val_loss: 0.4190 - val_acc: 0.7680\n",
            "Epoch 113/500\n",
            "602/602 [==============================] - 1s 2ms/step - loss: 0.4171 - acc: 0.7900 - val_loss: 0.4168 - val_acc: 0.8022\n",
            "Epoch 114/500\n",
            "602/602 [==============================] - 1s 2ms/step - loss: 0.4170 - acc: 0.7885 - val_loss: 0.4167 - val_acc: 0.8004\n",
            "Epoch 115/500\n",
            "602/602 [==============================] - 1s 2ms/step - loss: 0.4169 - acc: 0.7898 - val_loss: 0.4167 - val_acc: 0.7997\n",
            "Epoch 116/500\n",
            "602/602 [==============================] - 1s 2ms/step - loss: 0.4170 - acc: 0.7904 - val_loss: 0.4170 - val_acc: 0.8017\n",
            "Epoch 117/500\n",
            "602/602 [==============================] - 1s 2ms/step - loss: 0.4170 - acc: 0.7908 - val_loss: 0.4166 - val_acc: 0.8150\n",
            "Epoch 118/500\n",
            "602/602 [==============================] - 1s 2ms/step - loss: 0.4170 - acc: 0.7910 - val_loss: 0.4168 - val_acc: 0.8083\n",
            "Epoch 119/500\n",
            "602/602 [==============================] - 1s 2ms/step - loss: 0.4171 - acc: 0.7920 - val_loss: 0.4241 - val_acc: 0.7508\n",
            "Epoch 120/500\n",
            "602/602 [==============================] - 1s 2ms/step - loss: 0.4170 - acc: 0.7891 - val_loss: 0.4180 - val_acc: 0.7899\n",
            "Epoch 121/500\n",
            "602/602 [==============================] - 1s 2ms/step - loss: 0.4170 - acc: 0.7886 - val_loss: 0.4193 - val_acc: 0.7607\n",
            "Epoch 122/500\n",
            "602/602 [==============================] - 1s 2ms/step - loss: 0.4169 - acc: 0.7909 - val_loss: 0.4169 - val_acc: 0.7967\n",
            "Epoch 123/500\n",
            "602/602 [==============================] - 1s 2ms/step - loss: 0.4170 - acc: 0.7911 - val_loss: 0.4168 - val_acc: 0.8030\n",
            "Epoch 124/500\n",
            "602/602 [==============================] - 1s 2ms/step - loss: 0.4170 - acc: 0.7908 - val_loss: 0.4167 - val_acc: 0.8094\n",
            "Epoch 125/500\n",
            "602/602 [==============================] - 1s 2ms/step - loss: 0.4169 - acc: 0.7909 - val_loss: 0.4170 - val_acc: 0.7894\n",
            "Epoch 126/500\n",
            "602/602 [==============================] - 1s 2ms/step - loss: 0.4170 - acc: 0.7881 - val_loss: 0.4167 - val_acc: 0.7908\n",
            "Epoch 127/500\n",
            "602/602 [==============================] - 1s 2ms/step - loss: 0.4171 - acc: 0.7855 - val_loss: 0.4168 - val_acc: 0.7980\n",
            "Epoch 128/500\n",
            "602/602 [==============================] - 2s 3ms/step - loss: 0.4169 - acc: 0.7848 - val_loss: 0.4168 - val_acc: 0.7679\n",
            "Epoch 129/500\n",
            "602/602 [==============================] - 2s 3ms/step - loss: 0.4170 - acc: 0.7858 - val_loss: 0.4170 - val_acc: 0.7699\n",
            "Epoch 130/500\n",
            "602/602 [==============================] - 1s 2ms/step - loss: 0.4170 - acc: 0.7871 - val_loss: 0.4166 - val_acc: 0.8158\n",
            "Epoch 131/500\n",
            "602/602 [==============================] - 1s 2ms/step - loss: 0.4170 - acc: 0.7897 - val_loss: 0.4166 - val_acc: 0.8102\n",
            "Epoch 132/500\n",
            "602/602 [==============================] - 1s 2ms/step - loss: 0.4171 - acc: 0.7911 - val_loss: 0.4170 - val_acc: 0.7924\n",
            "Epoch 133/500\n",
            "602/602 [==============================] - 1s 2ms/step - loss: 0.4170 - acc: 0.7914 - val_loss: 0.4169 - val_acc: 0.8072\n",
            "Epoch 134/500\n",
            "602/602 [==============================] - 2s 3ms/step - loss: 0.4171 - acc: 0.7912 - val_loss: 0.4167 - val_acc: 0.8168\n",
            "Epoch 135/500\n",
            "602/602 [==============================] - 1s 2ms/step - loss: 0.4170 - acc: 0.7903 - val_loss: 0.4168 - val_acc: 0.8106\n",
            "Epoch 136/500\n",
            "602/602 [==============================] - 1s 2ms/step - loss: 0.4170 - acc: 0.7883 - val_loss: 0.4166 - val_acc: 0.7974\n",
            "Epoch 137/500\n",
            "602/602 [==============================] - 1s 2ms/step - loss: 0.4169 - acc: 0.7900 - val_loss: 0.4167 - val_acc: 0.8164\n",
            "Epoch 138/500\n",
            "602/602 [==============================] - 1s 2ms/step - loss: 0.4169 - acc: 0.7874 - val_loss: 0.4167 - val_acc: 0.8158\n",
            "Epoch 139/500\n",
            "602/602 [==============================] - 1s 2ms/step - loss: 0.4169 - acc: 0.7902 - val_loss: 0.4169 - val_acc: 0.8093\n",
            "Epoch 140/500\n",
            "602/602 [==============================] - 1s 2ms/step - loss: 0.4169 - acc: 0.7884 - val_loss: 0.4166 - val_acc: 0.7937\n",
            "Epoch 141/500\n",
            "602/602 [==============================] - 1s 2ms/step - loss: 0.4170 - acc: 0.7887 - val_loss: 0.4169 - val_acc: 0.8047\n",
            "Epoch 142/500\n",
            "602/602 [==============================] - 1s 2ms/step - loss: 0.4170 - acc: 0.7899 - val_loss: 0.4171 - val_acc: 0.8025\n",
            "Epoch 143/500\n",
            "602/602 [==============================] - 1s 2ms/step - loss: 0.4169 - acc: 0.7891 - val_loss: 0.4169 - val_acc: 0.7995\n",
            "Epoch 144/500\n",
            "602/602 [==============================] - 1s 2ms/step - loss: 0.4169 - acc: 0.7880 - val_loss: 0.4169 - val_acc: 0.7577\n",
            "Epoch 145/500\n",
            "602/602 [==============================] - 1s 2ms/step - loss: 0.4169 - acc: 0.7877 - val_loss: 0.4167 - val_acc: 0.8055\n",
            "Epoch 146/500\n",
            "602/602 [==============================] - 1s 2ms/step - loss: 0.4168 - acc: 0.7900 - val_loss: 0.4169 - val_acc: 0.8018\n",
            "Epoch 147/500\n",
            "602/602 [==============================] - 1s 2ms/step - loss: 0.4170 - acc: 0.7894 - val_loss: 0.4169 - val_acc: 0.7952\n",
            "Epoch 148/500\n",
            "602/602 [==============================] - 1s 2ms/step - loss: 0.4168 - acc: 0.7907 - val_loss: 0.4165 - val_acc: 0.8103\n",
            "Epoch 149/500\n",
            "602/602 [==============================] - 1s 2ms/step - loss: 0.4168 - acc: 0.7912 - val_loss: 0.4170 - val_acc: 0.7769\n",
            "Epoch 150/500\n",
            "602/602 [==============================] - 1s 2ms/step - loss: 0.4169 - acc: 0.7907 - val_loss: 0.4166 - val_acc: 0.8117\n",
            "Epoch 151/500\n",
            "602/602 [==============================] - 1s 2ms/step - loss: 0.4169 - acc: 0.7927 - val_loss: 0.4167 - val_acc: 0.8024\n",
            "Epoch 152/500\n",
            "602/602 [==============================] - 1s 2ms/step - loss: 0.4170 - acc: 0.7923 - val_loss: 0.4168 - val_acc: 0.8110\n",
            "Epoch 153/500\n",
            "602/602 [==============================] - 1s 2ms/step - loss: 0.4168 - acc: 0.7902 - val_loss: 0.4169 - val_acc: 0.7973\n",
            "Epoch 154/500\n",
            "602/602 [==============================] - 1s 2ms/step - loss: 0.4169 - acc: 0.7901 - val_loss: 0.4170 - val_acc: 0.8016\n",
            "Epoch 155/500\n",
            "602/602 [==============================] - 1s 2ms/step - loss: 0.4168 - acc: 0.7873 - val_loss: 0.4167 - val_acc: 0.8135\n",
            "Epoch 156/500\n",
            "602/602 [==============================] - 1s 2ms/step - loss: 0.4170 - acc: 0.7834 - val_loss: 0.4165 - val_acc: 0.7741\n",
            "Epoch 157/500\n",
            "602/602 [==============================] - 1s 2ms/step - loss: 0.4168 - acc: 0.7850 - val_loss: 0.4175 - val_acc: 0.7761\n",
            "Epoch 158/500\n",
            "602/602 [==============================] - 1s 2ms/step - loss: 0.4168 - acc: 0.7863 - val_loss: 0.4166 - val_acc: 0.8115\n",
            "Epoch 159/500\n",
            "602/602 [==============================] - 1s 2ms/step - loss: 0.4168 - acc: 0.7894 - val_loss: 0.4165 - val_acc: 0.8107\n",
            "Epoch 160/500\n",
            "602/602 [==============================] - 1s 2ms/step - loss: 0.4168 - acc: 0.7911 - val_loss: 0.4166 - val_acc: 0.7994\n",
            "Epoch 161/500\n",
            "602/602 [==============================] - 1s 2ms/step - loss: 0.4168 - acc: 0.7892 - val_loss: 0.4166 - val_acc: 0.7956\n",
            "Epoch 162/500\n",
            "602/602 [==============================] - 1s 2ms/step - loss: 0.4168 - acc: 0.7866 - val_loss: 0.4165 - val_acc: 0.7959\n",
            "Epoch 163/500\n",
            "602/602 [==============================] - 1s 2ms/step - loss: 0.4168 - acc: 0.7889 - val_loss: 0.4165 - val_acc: 0.8102\n",
            "Epoch 164/500\n",
            "602/602 [==============================] - 1s 2ms/step - loss: 0.4168 - acc: 0.7894 - val_loss: 0.4165 - val_acc: 0.8087\n",
            "Epoch 165/500\n",
            "602/602 [==============================] - 1s 2ms/step - loss: 0.4168 - acc: 0.7883 - val_loss: 0.4166 - val_acc: 0.7928\n",
            "Epoch 166/500\n",
            "602/602 [==============================] - 1s 2ms/step - loss: 0.4167 - acc: 0.7895 - val_loss: 0.4189 - val_acc: 0.7945\n",
            "Epoch 167/500\n",
            "602/602 [==============================] - 1s 2ms/step - loss: 0.4168 - acc: 0.7915 - val_loss: 0.4168 - val_acc: 0.7992\n",
            "Epoch 168/500\n",
            "602/602 [==============================] - 1s 2ms/step - loss: 0.4169 - acc: 0.7896 - val_loss: 0.4165 - val_acc: 0.8057\n",
            "Epoch 169/500\n",
            "602/602 [==============================] - 1s 2ms/step - loss: 0.4168 - acc: 0.7897 - val_loss: 0.4168 - val_acc: 0.7774\n",
            "Epoch 170/500\n",
            "602/602 [==============================] - 1s 2ms/step - loss: 0.4166 - acc: 0.7911 - val_loss: 0.4165 - val_acc: 0.8037\n",
            "Epoch 171/500\n",
            "602/602 [==============================] - 1s 2ms/step - loss: 0.4168 - acc: 0.7886 - val_loss: 0.4166 - val_acc: 0.8076\n",
            "Epoch 172/500\n",
            "602/602 [==============================] - 1s 2ms/step - loss: 0.4168 - acc: 0.7874 - val_loss: 0.4168 - val_acc: 0.7793\n",
            "Epoch 173/500\n",
            "602/602 [==============================] - 1s 2ms/step - loss: 0.4168 - acc: 0.7875 - val_loss: 0.4164 - val_acc: 0.8120\n",
            "Epoch 174/500\n",
            "602/602 [==============================] - 1s 2ms/step - loss: 0.4167 - acc: 0.7887 - val_loss: 0.4165 - val_acc: 0.8150\n",
            "Epoch 175/500\n",
            "602/602 [==============================] - 1s 2ms/step - loss: 0.4168 - acc: 0.7899 - val_loss: 0.4164 - val_acc: 0.8076\n",
            "Epoch 176/500\n",
            "602/602 [==============================] - 1s 2ms/step - loss: 0.4166 - acc: 0.7824 - val_loss: 0.4165 - val_acc: 0.8152\n",
            "Epoch 177/500\n",
            "602/602 [==============================] - 1s 2ms/step - loss: 0.4167 - acc: 0.7840 - val_loss: 0.4165 - val_acc: 0.8216\n",
            "Epoch 178/500\n",
            "602/602 [==============================] - 1s 2ms/step - loss: 0.4167 - acc: 0.7867 - val_loss: 0.4164 - val_acc: 0.8061\n",
            "Epoch 179/500\n",
            "602/602 [==============================] - 1s 2ms/step - loss: 0.4167 - acc: 0.7864 - val_loss: 0.4192 - val_acc: 0.7847\n",
            "Epoch 180/500\n",
            "602/602 [==============================] - 1s 2ms/step - loss: 0.4168 - acc: 0.7852 - val_loss: 0.4183 - val_acc: 0.7866\n",
            "Epoch 181/500\n",
            "602/602 [==============================] - 1s 2ms/step - loss: 0.4167 - acc: 0.7866 - val_loss: 0.4164 - val_acc: 0.7824\n",
            "Epoch 182/500\n",
            "602/602 [==============================] - 1s 2ms/step - loss: 0.4167 - acc: 0.7861 - val_loss: 0.4165 - val_acc: 0.7997\n",
            "Epoch 183/500\n",
            "602/602 [==============================] - 1s 2ms/step - loss: 0.4168 - acc: 0.7855 - val_loss: 0.4164 - val_acc: 0.8052\n",
            "Epoch 184/500\n",
            "602/602 [==============================] - 1s 2ms/step - loss: 0.4166 - acc: 0.7880 - val_loss: 0.4167 - val_acc: 0.7999\n",
            "Epoch 185/500\n",
            "602/602 [==============================] - 1s 2ms/step - loss: 0.4166 - acc: 0.7867 - val_loss: 0.4164 - val_acc: 0.8038\n",
            "Epoch 186/500\n",
            "602/602 [==============================] - 1s 2ms/step - loss: 0.4167 - acc: 0.7833 - val_loss: 0.4165 - val_acc: 0.7806\n",
            "Epoch 187/500\n",
            "602/602 [==============================] - 1s 2ms/step - loss: 0.4166 - acc: 0.7834 - val_loss: 0.4166 - val_acc: 0.8042\n",
            "Epoch 188/500\n",
            "602/602 [==============================] - 1s 2ms/step - loss: 0.4166 - acc: 0.7822 - val_loss: 0.4173 - val_acc: 0.7867\n",
            "Epoch 189/500\n",
            "602/602 [==============================] - 1s 2ms/step - loss: 0.4166 - acc: 0.7811 - val_loss: 0.4167 - val_acc: 0.7895\n",
            "Epoch 190/500\n",
            "602/602 [==============================] - 1s 2ms/step - loss: 0.4163 - acc: 0.7825 - val_loss: 0.4161 - val_acc: 0.8059\n",
            "Epoch 191/500\n",
            "602/602 [==============================] - 1s 2ms/step - loss: 0.4163 - acc: 0.7855 - val_loss: 0.4159 - val_acc: 0.7931\n",
            "Epoch 192/500\n",
            "602/602 [==============================] - 2s 3ms/step - loss: 0.4161 - acc: 0.7833 - val_loss: 0.4162 - val_acc: 0.7906\n",
            "Epoch 193/500\n",
            "602/602 [==============================] - 2s 3ms/step - loss: 0.4161 - acc: 0.7836 - val_loss: 0.4158 - val_acc: 0.7930\n",
            "Epoch 194/500\n",
            "602/602 [==============================] - 1s 2ms/step - loss: 0.4159 - acc: 0.7844 - val_loss: 0.4157 - val_acc: 0.8139\n",
            "Epoch 195/500\n",
            "602/602 [==============================] - 1s 2ms/step - loss: 0.4159 - acc: 0.7855 - val_loss: 0.4158 - val_acc: 0.7958\n",
            "Epoch 196/500\n",
            "602/602 [==============================] - 1s 2ms/step - loss: 0.4159 - acc: 0.7855 - val_loss: 0.4157 - val_acc: 0.7804\n",
            "Epoch 197/500\n",
            "602/602 [==============================] - 1s 2ms/step - loss: 0.4159 - acc: 0.7840 - val_loss: 0.4161 - val_acc: 0.7926\n",
            "Epoch 198/500\n",
            "602/602 [==============================] - 1s 2ms/step - loss: 0.4158 - acc: 0.7863 - val_loss: 0.4157 - val_acc: 0.7654\n",
            "Epoch 199/500\n",
            "602/602 [==============================] - 1s 2ms/step - loss: 0.4157 - acc: 0.7868 - val_loss: 0.4156 - val_acc: 0.7857\n",
            "Epoch 200/500\n",
            "602/602 [==============================] - 1s 2ms/step - loss: 0.4157 - acc: 0.7866 - val_loss: 0.4156 - val_acc: 0.7783\n",
            "Epoch 201/500\n",
            "602/602 [==============================] - 1s 2ms/step - loss: 0.4159 - acc: 0.7855 - val_loss: 0.4164 - val_acc: 0.7698\n",
            "Epoch 202/500\n",
            "602/602 [==============================] - 1s 2ms/step - loss: 0.4158 - acc: 0.7849 - val_loss: 0.4159 - val_acc: 0.7912\n",
            "Epoch 203/500\n",
            "602/602 [==============================] - 1s 2ms/step - loss: 0.4157 - acc: 0.7870 - val_loss: 0.4163 - val_acc: 0.7765\n",
            "Epoch 204/500\n",
            "602/602 [==============================] - 1s 2ms/step - loss: 0.4158 - acc: 0.7867 - val_loss: 0.4175 - val_acc: 0.7843\n",
            "Epoch 205/500\n",
            "602/602 [==============================] - 1s 2ms/step - loss: 0.4157 - acc: 0.7851 - val_loss: 0.4156 - val_acc: 0.7944\n",
            "Epoch 206/500\n",
            "602/602 [==============================] - 1s 2ms/step - loss: 0.4158 - acc: 0.7861 - val_loss: 0.4156 - val_acc: 0.7966\n",
            "Epoch 207/500\n",
            "602/602 [==============================] - 1s 2ms/step - loss: 0.4157 - acc: 0.7842 - val_loss: 0.4157 - val_acc: 0.8021\n",
            "Epoch 208/500\n",
            "602/602 [==============================] - 1s 2ms/step - loss: 0.4158 - acc: 0.7859 - val_loss: 0.4156 - val_acc: 0.8183\n",
            "Epoch 209/500\n",
            "602/602 [==============================] - 1s 2ms/step - loss: 0.4157 - acc: 0.7864 - val_loss: 0.4157 - val_acc: 0.7926\n",
            "Epoch 210/500\n",
            "602/602 [==============================] - 1s 2ms/step - loss: 0.4158 - acc: 0.7854 - val_loss: 0.4171 - val_acc: 0.7551\n",
            "Epoch 211/500\n",
            "602/602 [==============================] - 1s 2ms/step - loss: 0.4158 - acc: 0.7864 - val_loss: 0.4159 - val_acc: 0.8116\n",
            "Epoch 212/500\n",
            "602/602 [==============================] - 1s 2ms/step - loss: 0.4157 - acc: 0.7879 - val_loss: 0.4155 - val_acc: 0.8174\n",
            "Epoch 213/500\n",
            "602/602 [==============================] - 1s 2ms/step - loss: 0.4157 - acc: 0.7881 - val_loss: 0.4156 - val_acc: 0.8095\n",
            "Epoch 214/500\n",
            "602/602 [==============================] - 1s 2ms/step - loss: 0.4157 - acc: 0.7885 - val_loss: 0.4157 - val_acc: 0.7965\n",
            "Epoch 215/500\n",
            "602/602 [==============================] - 1s 2ms/step - loss: 0.4158 - acc: 0.7853 - val_loss: 0.4158 - val_acc: 0.8161\n",
            "Epoch 216/500\n",
            "602/602 [==============================] - 1s 2ms/step - loss: 0.4156 - acc: 0.7832 - val_loss: 0.4173 - val_acc: 0.7973\n",
            "Epoch 217/500\n",
            "602/602 [==============================] - 1s 2ms/step - loss: 0.4157 - acc: 0.7840 - val_loss: 0.4157 - val_acc: 0.8161\n",
            "Epoch 218/500\n",
            "602/602 [==============================] - 1s 2ms/step - loss: 0.4156 - acc: 0.7839 - val_loss: 0.4158 - val_acc: 0.7643\n",
            "Epoch 219/500\n",
            "602/602 [==============================] - 1s 2ms/step - loss: 0.4156 - acc: 0.7838 - val_loss: 0.4158 - val_acc: 0.7816\n",
            "Epoch 220/500\n",
            "602/602 [==============================] - 1s 2ms/step - loss: 0.4157 - acc: 0.7853 - val_loss: 0.4155 - val_acc: 0.8078\n",
            "Epoch 221/500\n",
            "602/602 [==============================] - 1s 2ms/step - loss: 0.4156 - acc: 0.7859 - val_loss: 0.4156 - val_acc: 0.8007\n",
            "Epoch 222/500\n",
            "602/602 [==============================] - 1s 2ms/step - loss: 0.4157 - acc: 0.7854 - val_loss: 0.4156 - val_acc: 0.7993\n",
            "Epoch 223/500\n",
            "602/602 [==============================] - 1s 2ms/step - loss: 0.4156 - acc: 0.7867 - val_loss: 0.4160 - val_acc: 0.8017\n",
            "Epoch 224/500\n",
            "602/602 [==============================] - 1s 2ms/step - loss: 0.4157 - acc: 0.7859 - val_loss: 0.4161 - val_acc: 0.7876\n",
            "Epoch 225/500\n",
            "602/602 [==============================] - 1s 2ms/step - loss: 0.4156 - acc: 0.7858 - val_loss: 0.4156 - val_acc: 0.7987\n",
            "Epoch 226/500\n",
            "602/602 [==============================] - 1s 2ms/step - loss: 0.4155 - acc: 0.7880 - val_loss: 0.4155 - val_acc: 0.7987\n",
            "Epoch 227/500\n",
            "602/602 [==============================] - 1s 2ms/step - loss: 0.4155 - acc: 0.7874 - val_loss: 0.4160 - val_acc: 0.7991\n",
            "Epoch 228/500\n",
            "602/602 [==============================] - 1s 2ms/step - loss: 0.4155 - acc: 0.7875 - val_loss: 0.4153 - val_acc: 0.8004\n",
            "Epoch 229/500\n",
            "602/602 [==============================] - 1s 2ms/step - loss: 0.4155 - acc: 0.7872 - val_loss: 0.4155 - val_acc: 0.8085\n",
            "Epoch 230/500\n",
            "602/602 [==============================] - 1s 2ms/step - loss: 0.4155 - acc: 0.7868 - val_loss: 0.4159 - val_acc: 0.8012\n",
            "Epoch 231/500\n",
            "602/602 [==============================] - 1s 2ms/step - loss: 0.4154 - acc: 0.7860 - val_loss: 0.4154 - val_acc: 0.7933\n",
            "Epoch 232/500\n",
            "602/602 [==============================] - 1s 2ms/step - loss: 0.4155 - acc: 0.7884 - val_loss: 0.4154 - val_acc: 0.8030\n",
            "Epoch 233/500\n",
            "602/602 [==============================] - 1s 2ms/step - loss: 0.4154 - acc: 0.7906 - val_loss: 0.4153 - val_acc: 0.8011\n",
            "Epoch 234/500\n",
            "602/602 [==============================] - 1s 2ms/step - loss: 0.4155 - acc: 0.7870 - val_loss: 0.4226 - val_acc: 0.7245\n",
            "Epoch 235/500\n",
            "602/602 [==============================] - 1s 2ms/step - loss: 0.4156 - acc: 0.7859 - val_loss: 0.4156 - val_acc: 0.7681\n",
            "Epoch 236/500\n",
            "602/602 [==============================] - 1s 2ms/step - loss: 0.4156 - acc: 0.7880 - val_loss: 0.4154 - val_acc: 0.8039\n",
            "Epoch 237/500\n",
            "602/602 [==============================] - 1s 2ms/step - loss: 0.4155 - acc: 0.7866 - val_loss: 0.4155 - val_acc: 0.8152\n",
            "Epoch 238/500\n",
            "602/602 [==============================] - 1s 2ms/step - loss: 0.4154 - acc: 0.7867 - val_loss: 0.4152 - val_acc: 0.7987\n",
            "Epoch 239/500\n",
            "602/602 [==============================] - 1s 2ms/step - loss: 0.4154 - acc: 0.7903 - val_loss: 0.4159 - val_acc: 0.7955\n",
            "Epoch 240/500\n",
            "602/602 [==============================] - 1s 2ms/step - loss: 0.4154 - acc: 0.7906 - val_loss: 0.4152 - val_acc: 0.8057\n",
            "Epoch 241/500\n",
            "602/602 [==============================] - 1s 2ms/step - loss: 0.4154 - acc: 0.7906 - val_loss: 0.4156 - val_acc: 0.7965\n",
            "Epoch 242/500\n",
            "602/602 [==============================] - 1s 2ms/step - loss: 0.4155 - acc: 0.7900 - val_loss: 0.4153 - val_acc: 0.8046\n",
            "Epoch 243/500\n",
            "602/602 [==============================] - 1s 2ms/step - loss: 0.4154 - acc: 0.7849 - val_loss: 0.4153 - val_acc: 0.7957\n",
            "Epoch 244/500\n",
            "602/602 [==============================] - 1s 2ms/step - loss: 0.4152 - acc: 0.7850 - val_loss: 0.4155 - val_acc: 0.8226\n",
            "Epoch 245/500\n",
            "602/602 [==============================] - 1s 2ms/step - loss: 0.4154 - acc: 0.7837 - val_loss: 0.4155 - val_acc: 0.8229\n",
            "Epoch 246/500\n",
            "602/602 [==============================] - 1s 2ms/step - loss: 0.4153 - acc: 0.7848 - val_loss: 0.4151 - val_acc: 0.7731\n",
            "Epoch 247/500\n",
            "602/602 [==============================] - 1s 2ms/step - loss: 0.4152 - acc: 0.7847 - val_loss: 0.4159 - val_acc: 0.7823\n",
            "Epoch 248/500\n",
            "602/602 [==============================] - 1s 2ms/step - loss: 0.4153 - acc: 0.7828 - val_loss: 0.4170 - val_acc: 0.7969\n",
            "Epoch 249/500\n",
            "602/602 [==============================] - 1s 2ms/step - loss: 0.4154 - acc: 0.7813 - val_loss: 0.4155 - val_acc: 0.7665\n",
            "Epoch 250/500\n",
            "602/602 [==============================] - 1s 2ms/step - loss: 0.4154 - acc: 0.7816 - val_loss: 0.4153 - val_acc: 0.7663\n",
            "Epoch 251/500\n",
            "602/602 [==============================] - 1s 2ms/step - loss: 0.4153 - acc: 0.7835 - val_loss: 0.4154 - val_acc: 0.8199\n",
            "Epoch 252/500\n",
            "602/602 [==============================] - 1s 2ms/step - loss: 0.4153 - acc: 0.7845 - val_loss: 0.4156 - val_acc: 0.8170\n",
            "Epoch 253/500\n",
            "602/602 [==============================] - 1s 2ms/step - loss: 0.4154 - acc: 0.7839 - val_loss: 0.4152 - val_acc: 0.8242\n",
            "Epoch 254/500\n",
            "602/602 [==============================] - 1s 2ms/step - loss: 0.4152 - acc: 0.7863 - val_loss: 0.4154 - val_acc: 0.8224\n",
            "Epoch 255/500\n",
            "602/602 [==============================] - 1s 2ms/step - loss: 0.4154 - acc: 0.7845 - val_loss: 0.4154 - val_acc: 0.8245\n",
            "Epoch 256/500\n",
            "602/602 [==============================] - 1s 2ms/step - loss: 0.4153 - acc: 0.7836 - val_loss: 0.4159 - val_acc: 0.7884\n",
            "Epoch 257/500\n",
            "602/602 [==============================] - 1s 2ms/step - loss: 0.4153 - acc: 0.7821 - val_loss: 0.4154 - val_acc: 0.7778\n",
            "Epoch 258/500\n",
            "602/602 [==============================] - 1s 2ms/step - loss: 0.4153 - acc: 0.7835 - val_loss: 0.4152 - val_acc: 0.8228\n",
            "Epoch 259/500\n",
            "602/602 [==============================] - 1s 2ms/step - loss: 0.4153 - acc: 0.7828 - val_loss: 0.4152 - val_acc: 0.8251\n",
            "Epoch 260/500\n",
            "602/602 [==============================] - 1s 2ms/step - loss: 0.4152 - acc: 0.7886 - val_loss: 0.4151 - val_acc: 0.7741\n",
            "Epoch 261/500\n",
            "602/602 [==============================] - 1s 2ms/step - loss: 0.4153 - acc: 0.7865 - val_loss: 0.4151 - val_acc: 0.7875\n",
            "Epoch 262/500\n",
            "602/602 [==============================] - 1s 2ms/step - loss: 0.4153 - acc: 0.7824 - val_loss: 0.4152 - val_acc: 0.8098\n",
            "Epoch 263/500\n",
            "602/602 [==============================] - 1s 2ms/step - loss: 0.4152 - acc: 0.7821 - val_loss: 0.4151 - val_acc: 0.8205\n",
            "Epoch 264/500\n",
            "602/602 [==============================] - 1s 2ms/step - loss: 0.4153 - acc: 0.7825 - val_loss: 0.4151 - val_acc: 0.7741\n",
            "Epoch 265/500\n",
            "602/602 [==============================] - 1s 2ms/step - loss: 0.4152 - acc: 0.7851 - val_loss: 0.4154 - val_acc: 0.7970\n",
            "Epoch 266/500\n",
            "602/602 [==============================] - 1s 2ms/step - loss: 0.4152 - acc: 0.7872 - val_loss: 0.4154 - val_acc: 0.7686\n",
            "Epoch 267/500\n",
            "602/602 [==============================] - 1s 2ms/step - loss: 0.4151 - acc: 0.7877 - val_loss: 0.4155 - val_acc: 0.8113\n",
            "Epoch 268/500\n",
            "602/602 [==============================] - 1s 2ms/step - loss: 0.4152 - acc: 0.7904 - val_loss: 0.4153 - val_acc: 0.8054\n",
            "Epoch 269/500\n",
            "602/602 [==============================] - 1s 2ms/step - loss: 0.4152 - acc: 0.7881 - val_loss: 0.4171 - val_acc: 0.7549\n",
            "Epoch 270/500\n",
            "602/602 [==============================] - 1s 2ms/step - loss: 0.4152 - acc: 0.7860 - val_loss: 0.4152 - val_acc: 0.8059\n",
            "Epoch 271/500\n",
            "602/602 [==============================] - 1s 2ms/step - loss: 0.4152 - acc: 0.7843 - val_loss: 0.4152 - val_acc: 0.8050\n",
            "Epoch 272/500\n",
            "602/602 [==============================] - 1s 2ms/step - loss: 0.4152 - acc: 0.7894 - val_loss: 0.4153 - val_acc: 0.8206\n",
            "Epoch 273/500\n",
            "602/602 [==============================] - 1s 2ms/step - loss: 0.4152 - acc: 0.7869 - val_loss: 0.4150 - val_acc: 0.8220\n",
            "Epoch 274/500\n",
            "602/602 [==============================] - 1s 2ms/step - loss: 0.4153 - acc: 0.7866 - val_loss: 0.4151 - val_acc: 0.8165\n",
            "Epoch 275/500\n",
            "602/602 [==============================] - 1s 2ms/step - loss: 0.4151 - acc: 0.7902 - val_loss: 0.4152 - val_acc: 0.8204\n",
            "Epoch 276/500\n",
            "602/602 [==============================] - 1s 2ms/step - loss: 0.4152 - acc: 0.7924 - val_loss: 0.4153 - val_acc: 0.8160\n",
            "Epoch 277/500\n",
            "602/602 [==============================] - 1s 2ms/step - loss: 0.4151 - acc: 0.7871 - val_loss: 0.4150 - val_acc: 0.8078\n",
            "Epoch 278/500\n",
            "602/602 [==============================] - 1s 2ms/step - loss: 0.4152 - acc: 0.7917 - val_loss: 0.4152 - val_acc: 0.8242\n",
            "Epoch 279/500\n",
            "602/602 [==============================] - 1s 2ms/step - loss: 0.4151 - acc: 0.7895 - val_loss: 0.4153 - val_acc: 0.7714\n",
            "Epoch 280/500\n",
            "602/602 [==============================] - 1s 2ms/step - loss: 0.4152 - acc: 0.7860 - val_loss: 0.4150 - val_acc: 0.7755\n",
            "Epoch 281/500\n",
            "602/602 [==============================] - 1s 2ms/step - loss: 0.4151 - acc: 0.7852 - val_loss: 0.4150 - val_acc: 0.7706\n",
            "Epoch 282/500\n",
            "602/602 [==============================] - 1s 2ms/step - loss: 0.4151 - acc: 0.7869 - val_loss: 0.4151 - val_acc: 0.7744\n",
            "Epoch 283/500\n",
            "602/602 [==============================] - 1s 2ms/step - loss: 0.4151 - acc: 0.7864 - val_loss: 0.4150 - val_acc: 0.7735\n",
            "Epoch 284/500\n",
            "602/602 [==============================] - 1s 2ms/step - loss: 0.4152 - acc: 0.7855 - val_loss: 0.4155 - val_acc: 0.7634\n",
            "Epoch 285/500\n",
            "602/602 [==============================] - 1s 2ms/step - loss: 0.4151 - acc: 0.7858 - val_loss: 0.4151 - val_acc: 0.8237\n",
            "Epoch 286/500\n",
            "602/602 [==============================] - 1s 2ms/step - loss: 0.4151 - acc: 0.7847 - val_loss: 0.4151 - val_acc: 0.8119\n",
            "Epoch 287/500\n",
            "602/602 [==============================] - 1s 2ms/step - loss: 0.4151 - acc: 0.7856 - val_loss: 0.4153 - val_acc: 0.7704\n",
            "Epoch 288/500\n",
            "602/602 [==============================] - 1s 2ms/step - loss: 0.4151 - acc: 0.7852 - val_loss: 0.4152 - val_acc: 0.8235\n",
            "Epoch 289/500\n",
            "602/602 [==============================] - 1s 2ms/step - loss: 0.4151 - acc: 0.7832 - val_loss: 0.4149 - val_acc: 0.8203\n",
            "Epoch 290/500\n",
            "602/602 [==============================] - 1s 2ms/step - loss: 0.4152 - acc: 0.7852 - val_loss: 0.4151 - val_acc: 0.7890\n",
            "Epoch 291/500\n",
            "602/602 [==============================] - 1s 2ms/step - loss: 0.4150 - acc: 0.7847 - val_loss: 0.4150 - val_acc: 0.8054\n",
            "Epoch 292/500\n",
            "602/602 [==============================] - 1s 2ms/step - loss: 0.4151 - acc: 0.7841 - val_loss: 0.4151 - val_acc: 0.7848\n",
            "Epoch 293/500\n",
            "602/602 [==============================] - 1s 2ms/step - loss: 0.4151 - acc: 0.7858 - val_loss: 0.4156 - val_acc: 0.7657\n",
            "Epoch 294/500\n",
            "602/602 [==============================] - 1s 2ms/step - loss: 0.4151 - acc: 0.7882 - val_loss: 0.4150 - val_acc: 0.7742\n",
            "Epoch 295/500\n",
            "602/602 [==============================] - 1s 2ms/step - loss: 0.4151 - acc: 0.7872 - val_loss: 0.4150 - val_acc: 0.7735\n",
            "Epoch 296/500\n",
            "602/602 [==============================] - 1s 2ms/step - loss: 0.4151 - acc: 0.7866 - val_loss: 0.4150 - val_acc: 0.8038\n",
            "Epoch 297/500\n",
            "602/602 [==============================] - 1s 2ms/step - loss: 0.4152 - acc: 0.7851 - val_loss: 0.4152 - val_acc: 0.8032\n",
            "Epoch 298/500\n",
            "602/602 [==============================] - 1s 2ms/step - loss: 0.4152 - acc: 0.7835 - val_loss: 0.4150 - val_acc: 0.7920\n",
            "Epoch 299/500\n",
            "602/602 [==============================] - 1s 2ms/step - loss: 0.4151 - acc: 0.7850 - val_loss: 0.4151 - val_acc: 0.7973\n",
            "Epoch 300/500\n",
            "602/602 [==============================] - 1s 2ms/step - loss: 0.4150 - acc: 0.7865 - val_loss: 0.4156 - val_acc: 0.8125\n",
            "Epoch 301/500\n",
            "602/602 [==============================] - 1s 2ms/step - loss: 0.4151 - acc: 0.7885 - val_loss: 0.4152 - val_acc: 0.8277\n",
            "Epoch 302/500\n",
            "602/602 [==============================] - 1s 2ms/step - loss: 0.4151 - acc: 0.7862 - val_loss: 0.4155 - val_acc: 0.7722\n",
            "Epoch 303/500\n",
            "602/602 [==============================] - 1s 2ms/step - loss: 0.4151 - acc: 0.7843 - val_loss: 0.4165 - val_acc: 0.8052\n",
            "Epoch 304/500\n",
            "602/602 [==============================] - 1s 2ms/step - loss: 0.4151 - acc: 0.7884 - val_loss: 0.4149 - val_acc: 0.8288\n",
            "Epoch 305/500\n",
            "602/602 [==============================] - 1s 2ms/step - loss: 0.4151 - acc: 0.7875 - val_loss: 0.4151 - val_acc: 0.8210\n",
            "Epoch 306/500\n",
            "602/602 [==============================] - 1s 2ms/step - loss: 0.4150 - acc: 0.7857 - val_loss: 0.4149 - val_acc: 0.7735\n",
            "Epoch 307/500\n",
            "602/602 [==============================] - 1s 2ms/step - loss: 0.4150 - acc: 0.7877 - val_loss: 0.4154 - val_acc: 0.7709\n",
            "Epoch 308/500\n",
            "602/602 [==============================] - 1s 2ms/step - loss: 0.4151 - acc: 0.7866 - val_loss: 0.4151 - val_acc: 0.7682\n",
            "Epoch 309/500\n",
            "602/602 [==============================] - 1s 2ms/step - loss: 0.4152 - acc: 0.7870 - val_loss: 0.4150 - val_acc: 0.7766\n",
            "Epoch 310/500\n",
            "602/602 [==============================] - 1s 2ms/step - loss: 0.4150 - acc: 0.7883 - val_loss: 0.4151 - val_acc: 0.7852\n",
            "Epoch 311/500\n",
            "602/602 [==============================] - 1s 2ms/step - loss: 0.4151 - acc: 0.7856 - val_loss: 0.4151 - val_acc: 0.7963\n",
            "Epoch 312/500\n",
            "602/602 [==============================] - 1s 2ms/step - loss: 0.4151 - acc: 0.7864 - val_loss: 0.4154 - val_acc: 0.7714\n",
            "Epoch 313/500\n",
            "602/602 [==============================] - 1s 2ms/step - loss: 0.4151 - acc: 0.7845 - val_loss: 0.4200 - val_acc: 0.7732\n",
            "Epoch 314/500\n",
            "602/602 [==============================] - 1s 2ms/step - loss: 0.4151 - acc: 0.7857 - val_loss: 0.4148 - val_acc: 0.8284\n",
            "Epoch 315/500\n",
            "602/602 [==============================] - 1s 2ms/step - loss: 0.4151 - acc: 0.7863 - val_loss: 0.4150 - val_acc: 0.7713\n",
            "Epoch 316/500\n",
            "602/602 [==============================] - 1s 2ms/step - loss: 0.4150 - acc: 0.7855 - val_loss: 0.4152 - val_acc: 0.8225\n",
            "Epoch 317/500\n",
            "602/602 [==============================] - 1s 2ms/step - loss: 0.4151 - acc: 0.7854 - val_loss: 0.4149 - val_acc: 0.8218\n",
            "Epoch 318/500\n",
            "602/602 [==============================] - 1s 2ms/step - loss: 0.4151 - acc: 0.7851 - val_loss: 0.4152 - val_acc: 0.7844\n",
            "Epoch 319/500\n",
            "602/602 [==============================] - 1s 2ms/step - loss: 0.4151 - acc: 0.7863 - val_loss: 0.4152 - val_acc: 0.8116\n",
            "Epoch 320/500\n",
            "602/602 [==============================] - 1s 2ms/step - loss: 0.4151 - acc: 0.7892 - val_loss: 0.4152 - val_acc: 0.8200\n",
            "Epoch 321/500\n",
            "602/602 [==============================] - 1s 2ms/step - loss: 0.4150 - acc: 0.7877 - val_loss: 0.4172 - val_acc: 0.7524\n",
            "Epoch 322/500\n",
            "602/602 [==============================] - 1s 2ms/step - loss: 0.4150 - acc: 0.7864 - val_loss: 0.4150 - val_acc: 0.7691\n",
            "Epoch 323/500\n",
            "602/602 [==============================] - 1s 2ms/step - loss: 0.4150 - acc: 0.7871 - val_loss: 0.4150 - val_acc: 0.8223\n",
            "Epoch 324/500\n",
            "602/602 [==============================] - 1s 2ms/step - loss: 0.4150 - acc: 0.7854 - val_loss: 0.4149 - val_acc: 0.7881\n",
            "Epoch 325/500\n",
            "602/602 [==============================] - 1s 2ms/step - loss: 0.4151 - acc: 0.7848 - val_loss: 0.4149 - val_acc: 0.7800\n",
            "Epoch 326/500\n",
            "602/602 [==============================] - 1s 2ms/step - loss: 0.4150 - acc: 0.7871 - val_loss: 0.4151 - val_acc: 0.7877\n",
            "Epoch 327/500\n",
            "602/602 [==============================] - 1s 2ms/step - loss: 0.4149 - acc: 0.7850 - val_loss: 0.4152 - val_acc: 0.7825\n",
            "Epoch 328/500\n",
            "602/602 [==============================] - 2s 3ms/step - loss: 0.4151 - acc: 0.7836 - val_loss: 0.4149 - val_acc: 0.8266\n",
            "Epoch 329/500\n",
            "602/602 [==============================] - 1s 2ms/step - loss: 0.4150 - acc: 0.7868 - val_loss: 0.4149 - val_acc: 0.8124\n",
            "Epoch 330/500\n",
            "602/602 [==============================] - 1s 2ms/step - loss: 0.4149 - acc: 0.7873 - val_loss: 0.4148 - val_acc: 0.8304\n",
            "Epoch 331/500\n",
            "602/602 [==============================] - 1s 2ms/step - loss: 0.4150 - acc: 0.7868 - val_loss: 0.4152 - val_acc: 0.7778\n",
            "Epoch 332/500\n",
            "602/602 [==============================] - 1s 2ms/step - loss: 0.4150 - acc: 0.7870 - val_loss: 0.4165 - val_acc: 0.7796\n",
            "Epoch 333/500\n",
            "602/602 [==============================] - 2s 2ms/step - loss: 0.4149 - acc: 0.7865 - val_loss: 0.4147 - val_acc: 0.7885\n",
            "Epoch 334/500\n",
            "602/602 [==============================] - 1s 2ms/step - loss: 0.4150 - acc: 0.7861 - val_loss: 0.4152 - val_acc: 0.7894\n",
            "Epoch 335/500\n",
            "602/602 [==============================] - 1s 2ms/step - loss: 0.4151 - acc: 0.7935 - val_loss: 0.4152 - val_acc: 0.7867\n",
            "Epoch 336/500\n",
            "602/602 [==============================] - 1s 2ms/step - loss: 0.4151 - acc: 0.7865 - val_loss: 0.4159 - val_acc: 0.7719\n",
            "Epoch 337/500\n",
            "602/602 [==============================] - 1s 2ms/step - loss: 0.4149 - acc: 0.7865 - val_loss: 0.4154 - val_acc: 0.8149\n",
            "Epoch 338/500\n",
            "602/602 [==============================] - 1s 2ms/step - loss: 0.4150 - acc: 0.7866 - val_loss: 0.4150 - val_acc: 0.7752\n",
            "Epoch 339/500\n",
            "602/602 [==============================] - 1s 2ms/step - loss: 0.4150 - acc: 0.7865 - val_loss: 0.4148 - val_acc: 0.8266\n",
            "Epoch 340/500\n",
            "602/602 [==============================] - 1s 2ms/step - loss: 0.4150 - acc: 0.7884 - val_loss: 0.4148 - val_acc: 0.7763\n",
            "Epoch 341/500\n",
            "602/602 [==============================] - 1s 2ms/step - loss: 0.4149 - acc: 0.7876 - val_loss: 0.4151 - val_acc: 0.8179\n",
            "Epoch 342/500\n",
            "602/602 [==============================] - 1s 2ms/step - loss: 0.4150 - acc: 0.7856 - val_loss: 0.4148 - val_acc: 0.7772\n",
            "Epoch 343/500\n",
            "602/602 [==============================] - 1s 2ms/step - loss: 0.4151 - acc: 0.7858 - val_loss: 0.4149 - val_acc: 0.8168\n",
            "Epoch 344/500\n",
            "602/602 [==============================] - 1s 2ms/step - loss: 0.4151 - acc: 0.7845 - val_loss: 0.4150 - val_acc: 0.7734\n",
            "Epoch 345/500\n",
            "602/602 [==============================] - 1s 2ms/step - loss: 0.4151 - acc: 0.7854 - val_loss: 0.4151 - val_acc: 0.8248\n",
            "Epoch 346/500\n",
            "602/602 [==============================] - 1s 2ms/step - loss: 0.4150 - acc: 0.7849 - val_loss: 0.4149 - val_acc: 0.7740\n",
            "Epoch 347/500\n",
            "602/602 [==============================] - 1s 2ms/step - loss: 0.4149 - acc: 0.7859 - val_loss: 0.4148 - val_acc: 0.7775\n",
            "Epoch 348/500\n",
            "602/602 [==============================] - 1s 2ms/step - loss: 0.4149 - acc: 0.7874 - val_loss: 0.4149 - val_acc: 0.8250\n",
            "Epoch 349/500\n",
            "602/602 [==============================] - 1s 2ms/step - loss: 0.4150 - acc: 0.7834 - val_loss: 0.4149 - val_acc: 0.7938\n",
            "Epoch 350/500\n",
            "602/602 [==============================] - 1s 2ms/step - loss: 0.4149 - acc: 0.7895 - val_loss: 0.4148 - val_acc: 0.8154\n",
            "Epoch 351/500\n",
            "602/602 [==============================] - 1s 2ms/step - loss: 0.4149 - acc: 0.7864 - val_loss: 0.4152 - val_acc: 0.8206\n",
            "Epoch 352/500\n",
            "602/602 [==============================] - 1s 2ms/step - loss: 0.4149 - acc: 0.7848 - val_loss: 0.4149 - val_acc: 0.8265\n",
            "Epoch 353/500\n",
            "602/602 [==============================] - 1s 2ms/step - loss: 0.4150 - acc: 0.7865 - val_loss: 0.4154 - val_acc: 0.8218\n",
            "Epoch 354/500\n",
            "602/602 [==============================] - 1s 2ms/step - loss: 0.4150 - acc: 0.7853 - val_loss: 0.4149 - val_acc: 0.7707\n",
            "Epoch 355/500\n",
            "602/602 [==============================] - 1s 2ms/step - loss: 0.4149 - acc: 0.7865 - val_loss: 0.4153 - val_acc: 0.7704\n",
            "Epoch 356/500\n",
            "602/602 [==============================] - 1s 2ms/step - loss: 0.4149 - acc: 0.7868 - val_loss: 0.4151 - val_acc: 0.8157\n",
            "Epoch 357/500\n",
            "602/602 [==============================] - 1s 2ms/step - loss: 0.4149 - acc: 0.7869 - val_loss: 0.4151 - val_acc: 0.8210\n",
            "Epoch 358/500\n",
            "602/602 [==============================] - 1s 2ms/step - loss: 0.4149 - acc: 0.7861 - val_loss: 0.4148 - val_acc: 0.7854\n",
            "Epoch 359/500\n",
            "602/602 [==============================] - 1s 2ms/step - loss: 0.4149 - acc: 0.7863 - val_loss: 0.4151 - val_acc: 0.8226\n",
            "Epoch 360/500\n",
            "602/602 [==============================] - 1s 2ms/step - loss: 0.4150 - acc: 0.7852 - val_loss: 0.4149 - val_acc: 0.8237\n",
            "Epoch 361/500\n",
            "602/602 [==============================] - 1s 2ms/step - loss: 0.4148 - acc: 0.7864 - val_loss: 0.4149 - val_acc: 0.8142\n",
            "Epoch 362/500\n",
            "602/602 [==============================] - 1s 2ms/step - loss: 0.4149 - acc: 0.7874 - val_loss: 0.4149 - val_acc: 0.8199\n",
            "Epoch 363/500\n",
            "602/602 [==============================] - 1s 2ms/step - loss: 0.4148 - acc: 0.7854 - val_loss: 0.4151 - val_acc: 0.7867\n",
            "Epoch 364/500\n",
            "602/602 [==============================] - 1s 2ms/step - loss: 0.4149 - acc: 0.7863 - val_loss: 0.4149 - val_acc: 0.7880\n",
            "Epoch 365/500\n",
            "602/602 [==============================] - 1s 2ms/step - loss: 0.4150 - acc: 0.7845 - val_loss: 0.4147 - val_acc: 0.8033\n",
            "Epoch 366/500\n",
            "602/602 [==============================] - 1s 2ms/step - loss: 0.4149 - acc: 0.7849 - val_loss: 0.4149 - val_acc: 0.8219\n",
            "Epoch 367/500\n",
            "602/602 [==============================] - 1s 2ms/step - loss: 0.4149 - acc: 0.7854 - val_loss: 0.4147 - val_acc: 0.8298\n",
            "Epoch 368/500\n",
            "602/602 [==============================] - 1s 2ms/step - loss: 0.4149 - acc: 0.7848 - val_loss: 0.4148 - val_acc: 0.7761\n",
            "Epoch 369/500\n",
            "602/602 [==============================] - 1s 2ms/step - loss: 0.4149 - acc: 0.7846 - val_loss: 0.4149 - val_acc: 0.8062\n",
            "Epoch 370/500\n",
            "602/602 [==============================] - 1s 2ms/step - loss: 0.4148 - acc: 0.7856 - val_loss: 0.4152 - val_acc: 0.8181\n",
            "Epoch 371/500\n",
            "602/602 [==============================] - 1s 2ms/step - loss: 0.4149 - acc: 0.7863 - val_loss: 0.4150 - val_acc: 0.8202\n",
            "Epoch 372/500\n",
            "602/602 [==============================] - 1s 2ms/step - loss: 0.4149 - acc: 0.7867 - val_loss: 0.4149 - val_acc: 0.8045\n",
            "Epoch 373/500\n",
            "602/602 [==============================] - 1s 2ms/step - loss: 0.4149 - acc: 0.7864 - val_loss: 0.4147 - val_acc: 0.7850\n",
            "Epoch 374/500\n",
            "602/602 [==============================] - 1s 2ms/step - loss: 0.4149 - acc: 0.7845 - val_loss: 0.4152 - val_acc: 0.7763\n",
            "Epoch 375/500\n",
            "602/602 [==============================] - 1s 2ms/step - loss: 0.4149 - acc: 0.7860 - val_loss: 0.4147 - val_acc: 0.8206\n",
            "Epoch 376/500\n",
            "602/602 [==============================] - 1s 2ms/step - loss: 0.4148 - acc: 0.7865 - val_loss: 0.4148 - val_acc: 0.7703\n",
            "Epoch 377/500\n",
            "602/602 [==============================] - 1s 2ms/step - loss: 0.4149 - acc: 0.7872 - val_loss: 0.4148 - val_acc: 0.7748\n",
            "Epoch 378/500\n",
            "602/602 [==============================] - 1s 2ms/step - loss: 0.4149 - acc: 0.7839 - val_loss: 0.4149 - val_acc: 0.8227\n",
            "Epoch 379/500\n",
            "602/602 [==============================] - 1s 2ms/step - loss: 0.4149 - acc: 0.7839 - val_loss: 0.4147 - val_acc: 0.7753\n",
            "Epoch 380/500\n",
            "592/602 [============================>.] - ETA: 0s - loss: 0.4149 - acc: 0.7882Restoring model weights from the end of the best epoch: 330.\n",
            "602/602 [==============================] - 1s 2ms/step - loss: 0.4149 - acc: 0.7883 - val_loss: 0.4148 - val_acc: 0.8281\n",
            "Epoch 380: early stopping\n"
          ]
        }
      ],
      "source": [
        "history = autoencoder.fit(\n",
        "    X_train, X_train,\n",
        "    shuffle=True,\n",
        "    epochs=EPOCHS,\n",
        "    batch_size=BATCH_SIZE,\n",
        "    callbacks=cb,\n",
        "    validation_data=(X_validate, X_validate)\n",
        ");"
      ]
    },
    {
      "cell_type": "code",
      "execution_count": null,
      "metadata": {
        "id": "WiJ_DnZKrglw"
      },
      "outputs": [],
      "source": [
        "import matplotlib.pyplot as plt"
      ]
    },
    {
      "cell_type": "code",
      "execution_count": null,
      "metadata": {
        "id": "5EPz4xOOrglx",
        "outputId": "48658083-7cc3-4989-b734-b28c799205d5"
      },
      "outputs": [
        {
          "data": {
            "image/png": "[encoded data removed]",
            "text/plain": [
              "<Figure size 432x288 with 1 Axes>"
            ]
          },
          "metadata": {
            "needs_background": "light"
          },
          "output_type": "display_data"
        },
        {
          "data": {
            "image/png": "[encoded data removed]",
            "text/plain": [
              "<Figure size 432x288 with 1 Axes>"
            ]
          },
          "metadata": {
            "needs_background": "light"
          },
          "output_type": "display_data"
        }
      ],
      "source": [
        "# 훈련 과정 시각화 (정확도)\n",
        "plt.plot(history.history['acc'])\n",
        "plt.plot(history.history['val_acc'])\n",
        "plt.title('Model accuracy')\n",
        "plt.xlabel('Epoch')\n",
        "plt.ylabel('Accuracy')\n",
        "plt.legend(['Train', 'Test'], loc='upper left')\n",
        "plt.show()\n",
        "\n",
        "# 훈련 과정 시각화 (손실)\n",
        "plt.plot(history.history['loss'])\n",
        "plt.plot(history.history['val_loss'])\n",
        "plt.title('Model loss')\n",
        "plt.xlabel('Epoch')\n",
        "plt.ylabel('Loss')\n",
        "plt.legend(['Train', 'Test'], loc='upper left')\n",
        "plt.show()"
      ]
    },
    {
      "cell_type": "code",
      "execution_count": null,
      "metadata": {
        "id": "z43q3RTQrgly"
      },
      "outputs": [],
      "source": [
        "# pass the transformed test set through the autoencoder to get the reconstructed result\n",
        "reconstructions = autoencoder.predict(X_test)"
      ]
    },
    {
      "cell_type": "code",
      "execution_count": null,
      "metadata": {
        "id": "UCznzbQKrgly"
      },
      "outputs": [],
      "source": [
        "# calculating the mean squared error reconstruction loss per row in the numpy array\n",
        "mse = np.mean(np.power(X_test - reconstructions, 2), axis=1)"
      ]
    },
    {
      "cell_type": "code",
      "execution_count": null,
      "metadata": {
        "id": "7lUTKKKUrgly",
        "outputId": "304e137d-9e82-428f-d3ab-fc547eaed5d1"
      },
      "outputs": [
        {
          "data": {
            "image/png": "[encoded data removed]",
            "text/plain": [
              "<Figure size 720x432 with 1 Axes>"
            ]
          },
          "metadata": {
            "needs_background": "light"
          },
          "output_type": "display_data"
        }
      ],
      "source": [
        "normal = mse[y_test==0]\n",
        "abnormal = mse[y_test==1]\n",
        "\n",
        "fig, ax = plt.subplots(figsize=(10,6))\n",
        "\n",
        "ax.hist(normal, bins=50, density=True, label=\"normal\", alpha=.6, color=\"green\")\n",
        "ax.hist(abnormal, bins=50, density=True, label=\"abnormal\", alpha=.6, color=\"red\")\n",
        "\n",
        "plt.title(\"(Normalized) Distribution of the Reconstruction Loss\")\n",
        "plt.legend()\n",
        "plt.show()"
      ]
    },
    {
      "cell_type": "markdown",
      "metadata": {
        "id": "eQDLBDUkrglz"
      },
      "source": [
        "### 1) Threshold = max"
      ]
    },
    {
      "cell_type": "code",
      "execution_count": null,
      "metadata": {
        "id": "JfHrCw01rglz"
      },
      "outputs": [],
      "source": [
        "from sklearn.metrics import (confusion_matrix, \n",
        "                             precision_recall_curve, \n",
        "                             classification_report,\n",
        "                             f1_score, precision_score, recall_score, accuracy_score)"
      ]
    },
    {
      "cell_type": "code",
      "execution_count": null,
      "metadata": {
        "id": "VnT5IZ-mrglz"
      },
      "outputs": [],
      "source": [
        "THRESHOLD = max(normal)\n",
        "\n",
        "outliers = mse > THRESHOLD"
      ]
    },
    {
      "cell_type": "code",
      "execution_count": null,
      "metadata": {
        "id": "6nGjlSegrglz"
      },
      "outputs": [],
      "source": [
        "from sklearn.metrics import (confusion_matrix, \n",
        "                             precision_recall_curve, f1_score)\n",
        "\n",
        "# get (mis)classification\n",
        "cm = confusion_matrix(y_test, outliers)\n",
        "\n",
        "# true/false positives/negatives\n",
        "(tn, fp, \n",
        " fn, tp) = cm.flatten()"
      ]
    },
    {
      "cell_type": "code",
      "execution_count": null,
      "metadata": {
        "id": "qQSSNipvrgl0",
        "outputId": "374d9331-37b0-490f-be56-8ba6b933839e"
      },
      "outputs": [
        {
          "name": "stdout",
          "output_type": "stream",
          "text": [
            "Classification Report :\n",
            "              precision    recall  f1-score   support\n",
            "\n",
            "           0       0.51      1.00      0.68       473\n",
            "           1       1.00      0.04      0.07       473\n",
            "\n",
            "    accuracy                           0.52       946\n",
            "   macro avg       0.75      0.52      0.37       946\n",
            "weighted avg       0.75      0.52      0.37       946\n",
            "\n"
          ]
        }
      ],
      "source": [
        "print(\"Classification Report :\")\n",
        "print(classification_report(y_test, outliers))"
      ]
    },
    {
      "cell_type": "code",
      "execution_count": null,
      "metadata": {
        "id": "Qi4sR3HNrgl0",
        "outputId": "c405033d-78a8-422f-f47a-05d4492a1afb"
      },
      "outputs": [
        {
          "name": "stdout",
          "output_type": "stream",
          "text": [
            "The classifications using the MAD method with threshold=2.527491663747746 are as follows:\n",
            "[[473   0]\n",
            " [455  18]]\n",
            "\n",
            "% of transactions labeled as fraud that were correct (precision): 18/(0+18) = 100.00%\n",
            "% of fraudulent transactions were caught succesfully (recall):    18/(455+18) = 3.81%\n"
          ]
        }
      ],
      "source": [
        "print(f\"\"\"The classifications using the MAD method with threshold={THRESHOLD} are as follows:\n",
        "{cm}\n",
        "\n",
        "% of transactions labeled as fraud that were correct (precision): {tp}/({fp}+{tp}) = {tp/(fp+tp):.2%}\n",
        "% of fraudulent transactions were caught succesfully (recall):    {tp}/({fn}+{tp}) = {tp/(fn+tp):.2%}\"\"\")"
      ]
    },
    {
      "cell_type": "code",
      "execution_count": null,
      "metadata": {
        "id": "csIz4YGxrgl0",
        "outputId": "21cb294e-fad7-49e2-a343-a8617042d680"
      },
      "outputs": [
        {
          "name": "stdout",
          "output_type": "stream",
          "text": [
            "f1 score: 0.07331975560081466\n",
            "precision: 1.0\n",
            "recall: 0.03805496828752643\n",
            "accuracy: 0.5190274841437632\n"
          ]
        }
      ],
      "source": [
        "print(\"f1 score:\", f1_score(y_test, outliers))\n",
        "print(\"precision:\", precision_score(y_test, outliers))\n",
        "print(\"recall:\", recall_score(y_test, outliers))\n",
        "print(\"accuracy:\", accuracy_score(y_test, outliers))"
      ]
    },
    {
      "cell_type": "markdown",
      "metadata": {
        "id": "wb0-1Nsjrgl0"
      },
      "source": [
        "### 2) Threshold = Q3 + 1.5*IQR"
      ]
    },
    {
      "cell_type": "code",
      "execution_count": null,
      "metadata": {
        "id": "H1Jr8ZONrgl1",
        "outputId": "c8adae63-d3a6-4c51-9fae-82bd9d2964f8"
      },
      "outputs": [
        {
          "name": "stdout",
          "output_type": "stream",
          "text": [
            "1.2533604326679433\n"
          ]
        }
      ],
      "source": [
        "quantile_25 = np.percentile(normal, 25)\n",
        "quantile_75 = np.percentile(normal, 75)\n",
        "\n",
        "IQR_weight = 1.5*(quantile_75 - quantile_25)\n",
        "\n",
        "THRESHOLD = quantile_75 + IQR_weight\n",
        "print(THRESHOLD)\n",
        "\n",
        "outliers = mse > THRESHOLD"
      ]
    },
    {
      "cell_type": "code",
      "execution_count": null,
      "metadata": {
        "id": "StyR1Bw1rgl1"
      },
      "outputs": [],
      "source": [
        "# get (mis)classification\n",
        "cm = confusion_matrix(y_test, outliers)\n",
        "\n",
        "# true/false positives/negatives\n",
        "(tn, fp, \n",
        " fn, tp) = cm.flatten()"
      ]
    },
    {
      "cell_type": "code",
      "execution_count": null,
      "metadata": {
        "id": "936gLgfsrgl1",
        "outputId": "678c34f9-9d0f-49c5-ea80-10ce3d2b7856"
      },
      "outputs": [
        {
          "name": "stdout",
          "output_type": "stream",
          "text": [
            "Classification Report :\n",
            "              precision    recall  f1-score   support\n",
            "\n",
            "           0       0.91      0.95      0.93       473\n",
            "           1       0.94      0.90      0.92       473\n",
            "\n",
            "    accuracy                           0.92       946\n",
            "   macro avg       0.92      0.92      0.92       946\n",
            "weighted avg       0.92      0.92      0.92       946\n",
            "\n"
          ]
        }
      ],
      "source": [
        "print(\"Classification Report :\")\n",
        "print(classification_report(y_test, outliers))"
      ]
    },
    {
      "cell_type": "code",
      "execution_count": null,
      "metadata": {
        "id": "yASm5PHprgl1",
        "outputId": "b17afcd0-1343-4780-a9cb-72387a9e52cf"
      },
      "outputs": [
        {
          "name": "stdout",
          "output_type": "stream",
          "text": [
            "The classifications using the MAD method with threshold=1.2533604326679433 are as follows:\n",
            "[[448  25]\n",
            " [ 47 426]]\n",
            "\n",
            "% of transactions labeled as fraud that were correct (precision): 426/(25+426) = 94.46%\n",
            "% of fraudulent transactions were caught succesfully (recall):    426/(47+426) = 90.06%\n"
          ]
        }
      ],
      "source": [
        "print(f\"\"\"The classifications using the MAD method with threshold={THRESHOLD} are as follows:\n",
        "{cm}\n",
        "\n",
        "% of transactions labeled as fraud that were correct (precision): {tp}/({fp}+{tp}) = {tp/(fp+tp):.2%}\n",
        "% of fraudulent transactions were caught succesfully (recall):    {tp}/({fn}+{tp}) = {tp/(fn+tp):.2%}\"\"\")"
      ]
    },
    {
      "cell_type": "code",
      "execution_count": null,
      "metadata": {
        "id": "obWeMuBkrgl2",
        "outputId": "239b6fee-61a1-40d8-df0c-6abe95f5e971"
      },
      "outputs": [
        {
          "name": "stdout",
          "output_type": "stream",
          "text": [
            "f1 score: 0.9220779220779222\n",
            "precision: 0.9445676274944568\n",
            "recall: 0.9006342494714588\n",
            "accuracy: 0.9238900634249472\n"
          ]
        }
      ],
      "source": [
        "print(\"f1 score:\", f1_score(y_test, outliers))\n",
        "print(\"precision:\", precision_score(y_test, outliers))\n",
        "print(\"recall:\", recall_score(y_test, outliers))\n",
        "print(\"accuracy:\", accuracy_score(y_test, outliers))"
      ]
    },
    {
      "cell_type": "markdown",
      "metadata": {
        "id": "y1eOAj3jrgl2"
      },
      "source": [
        "### 3) Heuristic"
      ]
    },
    {
      "cell_type": "code",
      "execution_count": null,
      "metadata": {
        "id": "bhdv8vvFrgl2"
      },
      "outputs": [],
      "source": [
        "THRESHOLD = 1\n",
        "\n",
        "outliers = mse > THRESHOLD"
      ]
    },
    {
      "cell_type": "code",
      "execution_count": null,
      "metadata": {
        "id": "NUijpoG8rgl2"
      },
      "outputs": [],
      "source": [
        "from sklearn.metrics import (confusion_matrix, \n",
        "                             precision_recall_curve)\n",
        "\n",
        "# get (mis)classification\n",
        "cm = confusion_matrix(y_test, outliers)\n",
        "\n",
        "# true/false positives/negatives\n",
        "(tn, fp, \n",
        " fn, tp) = cm.flatten()"
      ]
    },
    {
      "cell_type": "code",
      "execution_count": null,
      "metadata": {
        "id": "RyRO3gHOrgl3",
        "outputId": "19c1cdcf-e5b7-45b2-de81-750729b6c94f"
      },
      "outputs": [
        {
          "name": "stdout",
          "output_type": "stream",
          "text": [
            "Classification Report :\n",
            "              precision    recall  f1-score   support\n",
            "\n",
            "           0       0.98      0.90      0.94       473\n",
            "           1       0.91      0.98      0.94       473\n",
            "\n",
            "    accuracy                           0.94       946\n",
            "   macro avg       0.94      0.94      0.94       946\n",
            "weighted avg       0.94      0.94      0.94       946\n",
            "\n"
          ]
        }
      ],
      "source": [
        "print(\"Classification Report :\")\n",
        "print(classification_report(y_test, outliers))"
      ]
    },
    {
      "cell_type": "code",
      "execution_count": null,
      "metadata": {
        "id": "5gQuk-VGrgl3",
        "outputId": "4149b396-4d34-4c13-d819-e4b80a8fb583"
      },
      "outputs": [
        {
          "name": "stdout",
          "output_type": "stream",
          "text": [
            "The classifications using the MAD method with threshold=1 are as follows:\n",
            "[[426  47]\n",
            " [  8 465]]\n",
            "\n",
            "% of transactions labeled as fraud that were correct (precision): 465/(47+465) = 90.82%\n",
            "% of fraudulent transactions were caught succesfully (recall):    465/(8+465) = 98.31%\n"
          ]
        }
      ],
      "source": [
        "print(f\"\"\"The classifications using the MAD method with threshold={THRESHOLD} are as follows:\n",
        "{cm}\n",
        "\n",
        "% of transactions labeled as fraud that were correct (precision): {tp}/({fp}+{tp}) = {tp/(fp+tp):.2%}\n",
        "% of fraudulent transactions were caught succesfully (recall):    {tp}/({fn}+{tp}) = {tp/(fn+tp):.2%}\"\"\")"
      ]
    },
    {
      "cell_type": "code",
      "execution_count": null,
      "metadata": {
        "id": "fQijwWo5rgl3",
        "outputId": "ba59c67f-5907-412b-d3a5-fd644e13dd0a"
      },
      "outputs": [
        {
          "name": "stdout",
          "output_type": "stream",
          "text": [
            "f1 score: 0.9441624365482234\n",
            "precision: 0.908203125\n",
            "recall: 0.9830866807610994\n",
            "accuracy: 0.9418604651162791\n"
          ]
        }
      ],
      "source": [
        "print(\"f1 score:\", f1_score(y_test, outliers))\n",
        "print(\"precision:\", precision_score(y_test, outliers))\n",
        "print(\"recall:\", recall_score(y_test, outliers))\n",
        "print(\"accuracy:\", accuracy_score(y_test, outliers))"
      ]
    },
    {
      "cell_type": "code",
      "execution_count": null,
      "metadata": {
        "id": "cyO5Q9Snrgl4"
      },
      "outputs": [],
      "source": [
        ""
      ]
    }
  ],
  "metadata": {
    "kernelspec": {
      "display_name": "Python 3",
      "language": "python",
      "name": "python3"
    },
    "language_info": {
      "codemirror_mode": {
        "name": "ipython",
        "version": 3
      },
      "file_extension": ".py",
      "mimetype": "text/x-python",
      "name": "python",
      "nbconvert_exporter": "python",
      "pygments_lexer": "ipython3",
      "version": "3.7.6"
    },
    "colab": {
      "name": "Autoencoder 실험 2.ipynb",
      "provenance": [],
      "include_colab_link": true
    }
  },
  "nbformat": 4,
  "nbformat_minor": 0
}